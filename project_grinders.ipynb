{
 "cells": [
  {
   "cell_type": "markdown",
   "id": "61e4e1a2",
   "metadata": {},
   "source": [
    "# Кофемолки Yandex.market "
   ]
  },
  {
   "cell_type": "markdown",
   "id": "c433bb98",
   "metadata": {},
   "source": [
    "Целью проекта является выяление закономерностей в ценообразовании кофемолок, которые реализуются на Яндекс.Маркете.\n",
    "\n",
    "Для работы использовались реальные данные, которые были собраны с официального сайта Яндекс.Маркета.\n"
   ]
  },
  {
   "cell_type": "markdown",
   "id": "0603a811",
   "metadata": {},
   "source": [
    "**Описание данных**\n",
    "* name - название товара \n",
    "* price_yand - цена товара со скидкой Яндекс.Pay (руб)\n",
    "* price_full - цена товара без скидки (руб)\n",
    "* color - цвет товара \n",
    "* volume - вместимость кофемолки (г)\n",
    "* gr_syst - система помола кофемолки\n",
    "* power - мощность кофемолки \n",
    "* rotation - особенности кофемолки либо наличие системы регулировки (данные присутствовали не по всем позициям)\n",
    "* brand - бренд кофемолки \n"
   ]
  },
  {
   "cell_type": "markdown",
   "id": "6191a2dc",
   "metadata": {},
   "source": [
    "# Этап 1. Получение и обработка данных"
   ]
  },
  {
   "cell_type": "code",
   "execution_count": 201,
   "id": "bdb4e87f",
   "metadata": {},
   "outputs": [],
   "source": [
    "import pandas as pd \n",
    "import numpy as np \n",
    "import matplotlib.pyplot as plt\n",
    "import seaborn as sns\n",
    "import re\n",
    "import statsmodels.api as sm\n",
    "from sklearn.model_selection import train_test_split "
   ]
  },
  {
   "cell_type": "code",
   "execution_count": 140,
   "id": "b20143e3",
   "metadata": {},
   "outputs": [],
   "source": [
    "df = pd.read_excel('grinders.xlsx')\n",
    "del df['web-scraper-order']\n",
    "del df['web-scraper-start-url']"
   ]
  },
  {
   "cell_type": "markdown",
   "id": "c5c7e2db",
   "metadata": {},
   "source": [
    "### Прочтем данные и посмотрим на них"
   ]
  },
  {
   "cell_type": "code",
   "execution_count": 141,
   "id": "b8709ef3",
   "metadata": {},
   "outputs": [
    {
     "data": {
      "text/html": [
       "<div>\n",
       "<style scoped>\n",
       "    .dataframe tbody tr th:only-of-type {\n",
       "        vertical-align: middle;\n",
       "    }\n",
       "\n",
       "    .dataframe tbody tr th {\n",
       "        vertical-align: top;\n",
       "    }\n",
       "\n",
       "    .dataframe thead th {\n",
       "        text-align: right;\n",
       "    }\n",
       "</style>\n",
       "<table border=\"1\" class=\"dataframe\">\n",
       "  <thead>\n",
       "    <tr style=\"text-align: right;\">\n",
       "      <th></th>\n",
       "      <th>name</th>\n",
       "      <th>price_yand</th>\n",
       "      <th>price_full</th>\n",
       "      <th>color</th>\n",
       "      <th>volume</th>\n",
       "      <th>gr_syst</th>\n",
       "      <th>power</th>\n",
       "      <th>rotation</th>\n",
       "    </tr>\n",
       "  </thead>\n",
       "  <tbody>\n",
       "    <tr>\n",
       "      <th>0</th>\n",
       "      <td>Кофемолка «3 в 1» Kitfort KT-799</td>\n",
       "      <td>2 342</td>\n",
       "      <td>2 390</td>\n",
       "      <td>черный</td>\n",
       "      <td>Вместимость: 40 г</td>\n",
       "      <td>Система помола: ротационный нож</td>\n",
       "      <td>Мощность: 210 Вт</td>\n",
       "      <td>Особенности: блокировка включения при снятой к...</td>\n",
       "    </tr>\n",
       "    <tr>\n",
       "      <th>1</th>\n",
       "      <td>Кофемолка Kitfort KT-799</td>\n",
       "      <td>2 237</td>\n",
       "      <td>NaN</td>\n",
       "      <td>черный</td>\n",
       "      <td>Вместимость: 40 г</td>\n",
       "      <td>Система помола: ротационный нож</td>\n",
       "      <td>Мощность: 210 Вт</td>\n",
       "      <td>Особенности: блокировка включения при снятой к...</td>\n",
       "    </tr>\n",
       "    <tr>\n",
       "      <th>2</th>\n",
       "      <td>Кофемолка Kitfort КТ-798</td>\n",
       "      <td>1 362</td>\n",
       "      <td>1 390</td>\n",
       "      <td>черный</td>\n",
       "      <td>Вместимость: 50 г</td>\n",
       "      <td>Система помола: ротационный нож</td>\n",
       "      <td>Мощность: 180 Вт</td>\n",
       "      <td>Особенности: блокировка включения при снятой к...</td>\n",
       "    </tr>\n",
       "    <tr>\n",
       "      <th>3</th>\n",
       "      <td>Кофемолка POLARIS PCG 2014</td>\n",
       "      <td>2 049</td>\n",
       "      <td>2 091</td>\n",
       "      <td>ченрый</td>\n",
       "      <td>Вместимость: 50 г</td>\n",
       "      <td>Система помола: ротационный нож</td>\n",
       "      <td>Мощность: 200 Вт</td>\n",
       "      <td>Особенности: блокировка включения при снятой к...</td>\n",
       "    </tr>\n",
       "    <tr>\n",
       "      <th>4</th>\n",
       "      <td>Кофемолка Kitfort KT-769</td>\n",
       "      <td>1 950</td>\n",
       "      <td>1 990</td>\n",
       "      <td>синий</td>\n",
       "      <td>Вместимость: 60 г</td>\n",
       "      <td>Система помола: ротационный нож</td>\n",
       "      <td>Мощность: 200 Вт</td>\n",
       "      <td>NaN</td>\n",
       "    </tr>\n",
       "  </tbody>\n",
       "</table>\n",
       "</div>"
      ],
      "text/plain": [
       "                               name price_yand price_full   color  \\\n",
       "0  Кофемолка «3 в 1» Kitfort KT-799      2 342      2 390  черный   \n",
       "1          Кофемолка Kitfort KT-799      2 237        NaN  черный   \n",
       "2          Кофемолка Kitfort КТ-798      1 362      1 390  черный   \n",
       "3        Кофемолка POLARIS PCG 2014      2 049      2 091  ченрый   \n",
       "4          Кофемолка Kitfort KT-769      1 950      1 990   синий   \n",
       "\n",
       "              volume                          gr_syst             power  \\\n",
       "0  Вместимость: 40 г  Система помола: ротационный нож  Мощность: 210 Вт   \n",
       "1  Вместимость: 40 г  Система помола: ротационный нож  Мощность: 210 Вт   \n",
       "2  Вместимость: 50 г  Система помола: ротационный нож  Мощность: 180 Вт   \n",
       "3  Вместимость: 50 г  Система помола: ротационный нож  Мощность: 200 Вт   \n",
       "4  Вместимость: 60 г  Система помола: ротационный нож  Мощность: 200 Вт   \n",
       "\n",
       "                                            rotation  \n",
       "0  Особенности: блокировка включения при снятой к...  \n",
       "1  Особенности: блокировка включения при снятой к...  \n",
       "2  Особенности: блокировка включения при снятой к...  \n",
       "3  Особенности: блокировка включения при снятой к...  \n",
       "4                                                NaN  "
      ]
     },
     "execution_count": 141,
     "metadata": {},
     "output_type": "execute_result"
    }
   ],
   "source": [
    "df.head(5)"
   ]
  },
  {
   "cell_type": "code",
   "execution_count": 142,
   "id": "6586ebdc",
   "metadata": {
    "scrolled": true
   },
   "outputs": [
    {
     "name": "stdout",
     "output_type": "stream",
     "text": [
      "<class 'pandas.core.frame.DataFrame'>\n",
      "RangeIndex: 500 entries, 0 to 499\n",
      "Data columns (total 8 columns):\n",
      " #   Column      Non-Null Count  Dtype \n",
      "---  ------      --------------  ----- \n",
      " 0   name        500 non-null    object\n",
      " 1   price_yand  500 non-null    object\n",
      " 2   price_full  458 non-null    object\n",
      " 3   color       498 non-null    object\n",
      " 4   volume      495 non-null    object\n",
      " 5   gr_syst     485 non-null    object\n",
      " 6   power       451 non-null    object\n",
      " 7   rotation    361 non-null    object\n",
      "dtypes: object(8)\n",
      "memory usage: 31.4+ KB\n"
     ]
    }
   ],
   "source": [
    "df.info()"
   ]
  },
  {
   "cell_type": "markdown",
   "id": "5d794a36",
   "metadata": {},
   "source": [
    "#### Плагин выгружает данные только в формате строки, кроме того есть товары, по которым данные не представлены, поэтому обработаем данные\n"
   ]
  },
  {
   "cell_type": "code",
   "execution_count": 143,
   "id": "22f14038",
   "metadata": {},
   "outputs": [],
   "source": [
    "#Во-первых напишем функцию, которая будет выделять название бренда (на английском языке) из колонки name. \n",
    "#После находжения бренда по заданным критериям, его название будет добавляться в новую колонку brand.  \n",
    "def extract_brand(x):\n",
    "    match = re.search(r'\\b[A-Za-z]+\\b', x)\n",
    "    if match:\n",
    "        return match.group(0)\n",
    "    return None\n",
    "df['brand'] = df['name'].apply(extract_brand)"
   ]
  },
  {
   "cell_type": "code",
   "execution_count": 144,
   "id": "e124fedb",
   "metadata": {},
   "outputs": [],
   "source": [
    "# Также сменим регистр, чтобы избежать уникальных значений одного и того же бренда из-за регистра \n",
    "df['brand'] = df['brand'].astype(str).str.lower()"
   ]
  },
  {
   "cell_type": "markdown",
   "id": "537be621",
   "metadata": {},
   "source": [
    "#### Переменная color содержит слишком много разных цветов, что будет не совсем удобно для анализа, поэтому сократим их количество "
   ]
  },
  {
   "cell_type": "code",
   "execution_count": 7,
   "id": "ea79a029",
   "metadata": {},
   "outputs": [
    {
     "data": {
      "text/plain": [
       "array(['черный', 'ченрый', 'синий', '100 г', 'серебристый',\n",
       "       'нержавеющая сталь', 'стальной', 'белый',\n",
       "       'серый,серебристый,черный', 'серебристый/черный', 'черно-желтый',\n",
       "       'серебиристый', 'черный/розовый', 'бежевый', 'серый',\n",
       "       'синий сапфир', 'яркий коралл', 'чёрный', 'серебристо-черный',\n",
       "       'черный/серебристый', 'бронзовый', 'коричневый',\n",
       "       'нержавеющая сталь/черный', 'серебристый / черный',\n",
       "       'черный/красный', 'красный', 'стальной/черный', 'black', '50 г',\n",
       "       'черный жемчуг', 'белый/черный', 'черный/серебро', 'coffee',\n",
       "       'черный/золотистый', 'Ночной графит', 'белый/синий', '390 г',\n",
       "       'бирюзовый', 'черный/нержавеющая сталь', 'серый/черный', 'лиловый',\n",
       "       'золото', 'серый / серебристый', 'белый жемчуг', 'красный рубин',\n",
       "       'белый/красный', 'черный / серебристый', 'металлик/черный',\n",
       "       'серый/серебристый', '60 г', 'белый с бежевым', 'сладкая слива',\n",
       "       'ясная яшма', 'фиолетовый', 'белый/бежевый', 'черный..', 'white',\n",
       "       'розовый', 'черный/желтый', 'белый/черный/желтый',\n",
       "       'серебристый/синий', 'белый/зеленый', 'черный/прозрачный', 'хром',\n",
       "       'зеленый/черный', 'серый жемчуг', 'голубой', 'белый, сиреневый',\n",
       "       '200 г', 'красный/черный', 'серебристая сталь', 'малиновый',\n",
       "       'schwarz', 'чeрный', 'серый / черный', 'Серебристый, Черный',\n",
       "       'белый/бирюзовый', 'жернова', 'светло-коричневый', 'черная',\n",
       "       'серый металлик', 'кофе', 'зеленый', 'темная яшма', 'grey',\n",
       "       'silber', nan, '85 г', 'rot', 'сeрый.', 'розовый опал', '6 Вт'],\n",
       "      dtype=object)"
      ]
     },
     "execution_count": 7,
     "metadata": {},
     "output_type": "execute_result"
    }
   ],
   "source": [
    "df['color'].unique()"
   ]
  },
  {
   "cell_type": "code",
   "execution_count": 145,
   "id": "95234740",
   "metadata": {},
   "outputs": [],
   "source": [
    "#Зададим условия, чтобы функция присваивала значения по соответствующим признакам\n",
    "conditions = [\n",
    "    (['че','чё','sch','bl','Но', 'чeрный'], 'черный'),\n",
    "    (['си'], 'синий'),\n",
    "    (['бел', 'wh'], 'белый'),\n",
    "    (['се', 'grey'], 'серый')]\n",
    "# Функция для замены цветов\n",
    "def replace_color(x):\n",
    "    for keywords, color in conditions:\n",
    "        if any(re.search(keyword, str(x), re.IGNORECASE) for keyword in keywords):\n",
    "            return color\n",
    "    return 'другой'\n",
    "# Применяем функцию к столбцу 'color'\n",
    "df['color'] = df['color'].apply(replace_color)"
   ]
  },
  {
   "cell_type": "code",
   "execution_count": 138,
   "id": "3303ad37",
   "metadata": {},
   "outputs": [
    {
     "data": {
      "text/plain": [
       "array([5, 4, 3, 1, 2], dtype=int64)"
      ]
     },
     "execution_count": 138,
     "metadata": {},
     "output_type": "execute_result"
    }
   ],
   "source": [
    "df.color.unique()"
   ]
  },
  {
   "cell_type": "code",
   "execution_count": 160,
   "id": "74b5f04e",
   "metadata": {},
   "outputs": [
    {
     "data": {
      "text/plain": [
       "color\n",
       "черный    213\n",
       "серый     120\n",
       "другой     88\n",
       "белый      61\n",
       "синий      18\n",
       "Name: count, dtype: int64"
      ]
     },
     "execution_count": 160,
     "metadata": {},
     "output_type": "execute_result"
    }
   ],
   "source": [
    "df.color.value_counts()"
   ]
  },
  {
   "cell_type": "code",
   "execution_count": 146,
   "id": "5c931950",
   "metadata": {},
   "outputs": [],
   "source": [
    "col_n = {\n",
    "    'другой': 1,\n",
    "    'белый': 2,\n",
    "    'серый': 3,\n",
    "    'синий': 4,\n",
    "    'черный': 5\n",
    "}\n",
    "# Создаем новую колонку с закодированными значениями\n",
    "df['color_n'] = df['color'].replace(col_n)"
   ]
  },
  {
   "cell_type": "markdown",
   "id": "602fbd7a",
   "metadata": {},
   "source": [
    "#### На примере столбца color можно заметить, что некоторые значения находятся не в тех колонках (85 г, 6 Вт), поэтому напишем функцию, которая будет проверять столбец на соответствие определенному признаку, после чего 'правильные' значения будут перенесены в новые колонки "
   ]
  },
  {
   "cell_type": "code",
   "execution_count": 147,
   "id": "63530266",
   "metadata": {},
   "outputs": [],
   "source": [
    "def correct_data(row):\n",
    "    for col in row.index:\n",
    "        value = row[col]\n",
    "        if pd.isna(value):\n",
    "            continue\n",
    "        value_str = str(value)\n",
    "        # Проверка и создание новой колонки для volume\n",
    "        if re.match(r'(Вместимость: \\d+ г|\\d+ г)$', value_str):\n",
    "            if pd.isna(row['c_volume']):\n",
    "                row['c_volume'] = value\n",
    "        # Проверка и создание новой колонки для gr_syst\n",
    "        if \"Система помола:\" in value_str:\n",
    "            if pd.isna(row['c_gr_syst']):\n",
    "                row['c_gr_syst'] = value\n",
    "        # Проверка и создание новой колонки для power\n",
    "        if re.match(r'(Мощность: \\d+ Вт|\\d+ Вт)$', value_str):\n",
    "            if pd.isna(row['c_power']):\n",
    "                row['c_power'] = value\n",
    "        # Проверка и создание новой колонки для rotation\n",
    "        if re.match(r'(Особенности: .*|Регулировка степени помола:.*)', value_str):\n",
    "            if pd.isna(row['c_rotation']):\n",
    "                row['c_rotation'] = value\n",
    "    return row\n",
    "df['c_volume'] = None\n",
    "df['c_gr_syst'] = None\n",
    "df['c_power'] = None\n",
    "df['c_rotation'] = None\n",
    "# Применим функцию ко всем строкам DataFrame\n",
    "df = df.apply(correct_data, axis=1)"
   ]
  },
  {
   "cell_type": "markdown",
   "id": "62419e24",
   "metadata": {},
   "source": [
    "Далее приведем все колонки к формату float, а также удалим старые колонки"
   ]
  },
  {
   "cell_type": "code",
   "execution_count": 148,
   "id": "b879a478",
   "metadata": {},
   "outputs": [],
   "source": [
    "df['price_yand'] = df['price_yand'].apply(lambda x: str(x).replace('\\u2009', ''))\n",
    "df['price_full'] = df['price_full'].apply(lambda x: str(x).replace('\\u2009', ''))\n",
    "df.fillna(0, inplace=True)"
   ]
  },
  {
   "cell_type": "code",
   "execution_count": 149,
   "id": "168652e2",
   "metadata": {},
   "outputs": [],
   "source": [
    "df['c_volume'] = df['c_volume'].str.extract(r'(\\d+)').astype(float)\n",
    "df['c_power'] = df['c_power'].str.extract(r'(\\d+)').astype(float)\n",
    "df[['price_yand','price_full']] = df[['price_yand','price_full']].astype(float)"
   ]
  },
  {
   "cell_type": "code",
   "execution_count": 150,
   "id": "75a30af2",
   "metadata": {},
   "outputs": [],
   "source": [
    "df = df.drop(columns=['volume','gr_syst','power','rotation'])"
   ]
  },
  {
   "cell_type": "code",
   "execution_count": 151,
   "id": "b4293d51",
   "metadata": {},
   "outputs": [],
   "source": [
    "# Если значения price_full отсутствует, то оно равно price_yandex\n",
    "df['price_full'] = df['price_full'].fillna(df['price_yand'])"
   ]
  },
  {
   "cell_type": "code",
   "execution_count": 162,
   "id": "410aa178",
   "metadata": {},
   "outputs": [],
   "source": [
    "# Значения в колонке gr_syst имеют разные форматы, поэтому приведем их к одному формату\n",
    "def grind_system(value):\n",
    "    if value in [0, '0']:\n",
    "        return 'Система неизвестна'\n",
    "    value = value.lower()\n",
    "    if 'ротацион' in value:\n",
    "        return 'Система помола: ротационный нож'\n",
    "    if 'жернова' in value:\n",
    "        return 'Система помола: жернова'\n",
    "    if 'ножев' in value:\n",
    "        return 'Система помола: ротационный нож'\n",
    "    return value\n",
    "df['c_gr_syst'] = df['c_gr_syst'].apply(grind_system)\n",
    "# Также зададим системам помола числовые значения, чтобы использовать их в регрессии\n",
    "mapping = {\n",
    "    'система неизвестна': 0,\n",
    "    'Система помола: ротационный нож': 0,\n",
    "    'Система помола: жернова': 1\n",
    "}\n",
    "# Создаем новую колонку с закодированными значениями\n",
    "df['gr_numb'] = df['c_gr_syst'].replace(mapping)"
   ]
  },
  {
   "cell_type": "code",
   "execution_count": 163,
   "id": "cbf78e3d",
   "metadata": {},
   "outputs": [
    {
     "data": {
      "text/plain": [
       "array([0, 1], dtype=int64)"
      ]
     },
     "execution_count": 163,
     "metadata": {},
     "output_type": "execute_result"
    }
   ],
   "source": [
    "df['gr_numb'].unique()"
   ]
  },
  {
   "cell_type": "markdown",
   "id": "77e4e6c5",
   "metadata": {},
   "source": [
    "Мы закодировали значения 'система неизвестна' как 0 из допушения, что кофемолки без информации о системе помола являются дешевыми и у них не может быть жерновой системы. То, что они дешевые подтверждается в коде ниже."
   ]
  },
  {
   "cell_type": "code",
   "execution_count": 65,
   "id": "74225bfa",
   "metadata": {},
   "outputs": [
    {
     "data": {
      "text/plain": [
       "799.0"
      ]
     },
     "execution_count": 65,
     "metadata": {},
     "output_type": "execute_result"
    }
   ],
   "source": [
    "df[df['c_gr_syst'] == 'система неизвестна'].price_yand.median()"
   ]
  },
  {
   "cell_type": "code",
   "execution_count": 66,
   "id": "576f8a2d",
   "metadata": {},
   "outputs": [
    {
     "data": {
      "text/plain": [
       "1169.225806451613"
      ]
     },
     "execution_count": 66,
     "metadata": {},
     "output_type": "execute_result"
    }
   ],
   "source": [
    "df[df['c_gr_syst'] == 'система неизвестна'].price_yand.mean()"
   ]
  },
  {
   "cell_type": "code",
   "execution_count": 67,
   "id": "c056d9c6",
   "metadata": {},
   "outputs": [
    {
     "data": {
      "text/plain": [
       "10452.795275590552"
      ]
     },
     "execution_count": 67,
     "metadata": {},
     "output_type": "execute_result"
    }
   ],
   "source": [
    "df[df['c_gr_syst'] == 'Система помола: жернова'].price_yand.mean()"
   ]
  },
  {
   "cell_type": "code",
   "execution_count": 68,
   "id": "b1fb82e0",
   "metadata": {},
   "outputs": [
    {
     "data": {
      "text/plain": [
       "5478.0"
      ]
     },
     "execution_count": 68,
     "metadata": {},
     "output_type": "execute_result"
    }
   ],
   "source": [
    "df[df['c_gr_syst'] == 'Система помола: жернова'].price_yand.median()"
   ]
  },
  {
   "cell_type": "markdown",
   "id": "5946764e",
   "metadata": {},
   "source": [
    "В итоге получаем обработанные данные, которые можно удобно анализировать"
   ]
  },
  {
   "cell_type": "code",
   "execution_count": 153,
   "id": "2f549ee3",
   "metadata": {},
   "outputs": [
    {
     "data": {
      "text/html": [
       "<div>\n",
       "<style scoped>\n",
       "    .dataframe tbody tr th:only-of-type {\n",
       "        vertical-align: middle;\n",
       "    }\n",
       "\n",
       "    .dataframe tbody tr th {\n",
       "        vertical-align: top;\n",
       "    }\n",
       "\n",
       "    .dataframe thead th {\n",
       "        text-align: right;\n",
       "    }\n",
       "</style>\n",
       "<table border=\"1\" class=\"dataframe\">\n",
       "  <thead>\n",
       "    <tr style=\"text-align: right;\">\n",
       "      <th></th>\n",
       "      <th>name</th>\n",
       "      <th>price_yand</th>\n",
       "      <th>price_full</th>\n",
       "      <th>color</th>\n",
       "      <th>brand</th>\n",
       "      <th>color_n</th>\n",
       "      <th>c_volume</th>\n",
       "      <th>c_gr_syst</th>\n",
       "      <th>c_power</th>\n",
       "      <th>c_rotation</th>\n",
       "      <th>gr_numb</th>\n",
       "    </tr>\n",
       "  </thead>\n",
       "  <tbody>\n",
       "    <tr>\n",
       "      <th>0</th>\n",
       "      <td>Кофемолка «3 в 1» Kitfort KT-799</td>\n",
       "      <td>2342.0</td>\n",
       "      <td>2390.0</td>\n",
       "      <td>черный</td>\n",
       "      <td>kitfort</td>\n",
       "      <td>5</td>\n",
       "      <td>40.0</td>\n",
       "      <td>Система помола: ротационный нож</td>\n",
       "      <td>210.0</td>\n",
       "      <td>Особенности: блокировка включения при снятой к...</td>\n",
       "      <td>0</td>\n",
       "    </tr>\n",
       "    <tr>\n",
       "      <th>1</th>\n",
       "      <td>Кофемолка Kitfort KT-799</td>\n",
       "      <td>2237.0</td>\n",
       "      <td>2237.0</td>\n",
       "      <td>черный</td>\n",
       "      <td>kitfort</td>\n",
       "      <td>5</td>\n",
       "      <td>40.0</td>\n",
       "      <td>Система помола: ротационный нож</td>\n",
       "      <td>210.0</td>\n",
       "      <td>Особенности: блокировка включения при снятой к...</td>\n",
       "      <td>0</td>\n",
       "    </tr>\n",
       "    <tr>\n",
       "      <th>2</th>\n",
       "      <td>Кофемолка Kitfort КТ-798</td>\n",
       "      <td>1362.0</td>\n",
       "      <td>1390.0</td>\n",
       "      <td>черный</td>\n",
       "      <td>kitfort</td>\n",
       "      <td>5</td>\n",
       "      <td>50.0</td>\n",
       "      <td>Система помола: ротационный нож</td>\n",
       "      <td>180.0</td>\n",
       "      <td>Особенности: блокировка включения при снятой к...</td>\n",
       "      <td>0</td>\n",
       "    </tr>\n",
       "    <tr>\n",
       "      <th>3</th>\n",
       "      <td>Кофемолка POLARIS PCG 2014</td>\n",
       "      <td>2049.0</td>\n",
       "      <td>2091.0</td>\n",
       "      <td>черный</td>\n",
       "      <td>polaris</td>\n",
       "      <td>5</td>\n",
       "      <td>50.0</td>\n",
       "      <td>Система помола: ротационный нож</td>\n",
       "      <td>200.0</td>\n",
       "      <td>Особенности: блокировка включения при снятой к...</td>\n",
       "      <td>0</td>\n",
       "    </tr>\n",
       "    <tr>\n",
       "      <th>4</th>\n",
       "      <td>Кофемолка Kitfort KT-769</td>\n",
       "      <td>1950.0</td>\n",
       "      <td>1990.0</td>\n",
       "      <td>синий</td>\n",
       "      <td>kitfort</td>\n",
       "      <td>4</td>\n",
       "      <td>60.0</td>\n",
       "      <td>Система помола: ротационный нож</td>\n",
       "      <td>200.0</td>\n",
       "      <td>0</td>\n",
       "      <td>0</td>\n",
       "    </tr>\n",
       "  </tbody>\n",
       "</table>\n",
       "</div>"
      ],
      "text/plain": [
       "                               name  price_yand  price_full   color    brand  \\\n",
       "0  Кофемолка «3 в 1» Kitfort KT-799      2342.0      2390.0  черный  kitfort   \n",
       "1          Кофемолка Kitfort KT-799      2237.0      2237.0  черный  kitfort   \n",
       "2          Кофемолка Kitfort КТ-798      1362.0      1390.0  черный  kitfort   \n",
       "3        Кофемолка POLARIS PCG 2014      2049.0      2091.0  черный  polaris   \n",
       "4          Кофемолка Kitfort KT-769      1950.0      1990.0   синий  kitfort   \n",
       "\n",
       "   color_n  c_volume                        c_gr_syst  c_power  \\\n",
       "0        5      40.0  Система помола: ротационный нож    210.0   \n",
       "1        5      40.0  Система помола: ротационный нож    210.0   \n",
       "2        5      50.0  Система помола: ротационный нож    180.0   \n",
       "3        5      50.0  Система помола: ротационный нож    200.0   \n",
       "4        4      60.0  Система помола: ротационный нож    200.0   \n",
       "\n",
       "                                          c_rotation gr_numb  \n",
       "0  Особенности: блокировка включения при снятой к...       0  \n",
       "1  Особенности: блокировка включения при снятой к...       0  \n",
       "2  Особенности: блокировка включения при снятой к...       0  \n",
       "3  Особенности: блокировка включения при снятой к...       0  \n",
       "4                                                  0       0  "
      ]
     },
     "execution_count": 153,
     "metadata": {},
     "output_type": "execute_result"
    }
   ],
   "source": [
    "df.head()"
   ]
  },
  {
   "cell_type": "markdown",
   "id": "ec19cec9",
   "metadata": {
    "scrolled": true
   },
   "source": [
    "# Этап 2. Описательная статистика \n"
   ]
  },
  {
   "cell_type": "markdown",
   "id": "a25b361f",
   "metadata": {},
   "source": [
    "По результатам функции describe можно сделать вывод, что в основном на Яндекс.Маркете реализуются кофемолки низкого и среднего ценовых сегментов. Среднее составляет 4277.98, а медиана лишь 1959.5, это значит, что 50% кофемолок дешевле 1959.5.\n",
    "Кроме того, квартиль 75% также меньше среднего и составляет 3299.7, это значит, что лишь 25% кофемолок дороже этой суммы.\n",
    "\n",
    "Объем кофемолки в среднем составялет 120 граммов, медиана составляет лишь 70 граммов, что также объясняется наличием большого количества недорогих кофемолок в выборке. \n",
    "\n",
    "Мощность в среднем составляет 223 Ватта, медиана составляет 200 Ваттов.\n",
    "\n",
    "Скидка по карте yandex pay в среднем составляет 1.83%. "
   ]
  },
  {
   "cell_type": "code",
   "execution_count": 164,
   "id": "c7fc62b0",
   "metadata": {},
   "outputs": [
    {
     "data": {
      "text/html": [
       "<div>\n",
       "<style scoped>\n",
       "    .dataframe tbody tr th:only-of-type {\n",
       "        vertical-align: middle;\n",
       "    }\n",
       "\n",
       "    .dataframe tbody tr th {\n",
       "        vertical-align: top;\n",
       "    }\n",
       "\n",
       "    .dataframe thead th {\n",
       "        text-align: right;\n",
       "    }\n",
       "</style>\n",
       "<table border=\"1\" class=\"dataframe\">\n",
       "  <thead>\n",
       "    <tr style=\"text-align: right;\">\n",
       "      <th></th>\n",
       "      <th>price_yand</th>\n",
       "      <th>price_full</th>\n",
       "      <th>color_n</th>\n",
       "      <th>c_volume</th>\n",
       "      <th>c_power</th>\n",
       "      <th>gr_numb</th>\n",
       "    </tr>\n",
       "  </thead>\n",
       "  <tbody>\n",
       "    <tr>\n",
       "      <th>count</th>\n",
       "      <td>500.00000</td>\n",
       "      <td>500.000000</td>\n",
       "      <td>500.000000</td>\n",
       "      <td>461.000000</td>\n",
       "      <td>475.000000</td>\n",
       "      <td>500.000000</td>\n",
       "    </tr>\n",
       "    <tr>\n",
       "      <th>mean</th>\n",
       "      <td>4277.98800</td>\n",
       "      <td>4352.602000</td>\n",
       "      <td>3.414000</td>\n",
       "      <td>120.559653</td>\n",
       "      <td>223.120000</td>\n",
       "      <td>0.254000</td>\n",
       "    </tr>\n",
       "    <tr>\n",
       "      <th>std</th>\n",
       "      <td>8687.47164</td>\n",
       "      <td>8818.235915</td>\n",
       "      <td>1.549001</td>\n",
       "      <td>166.669652</td>\n",
       "      <td>149.792755</td>\n",
       "      <td>0.435734</td>\n",
       "    </tr>\n",
       "    <tr>\n",
       "      <th>min</th>\n",
       "      <td>505.00000</td>\n",
       "      <td>515.000000</td>\n",
       "      <td>1.000000</td>\n",
       "      <td>25.000000</td>\n",
       "      <td>13.000000</td>\n",
       "      <td>0.000000</td>\n",
       "    </tr>\n",
       "    <tr>\n",
       "      <th>25%</th>\n",
       "      <td>1365.00000</td>\n",
       "      <td>1390.000000</td>\n",
       "      <td>2.000000</td>\n",
       "      <td>50.000000</td>\n",
       "      <td>150.000000</td>\n",
       "      <td>0.000000</td>\n",
       "    </tr>\n",
       "    <tr>\n",
       "      <th>50%</th>\n",
       "      <td>1959.50000</td>\n",
       "      <td>1990.000000</td>\n",
       "      <td>3.000000</td>\n",
       "      <td>70.000000</td>\n",
       "      <td>200.000000</td>\n",
       "      <td>0.000000</td>\n",
       "    </tr>\n",
       "    <tr>\n",
       "      <th>75%</th>\n",
       "      <td>3299.75000</td>\n",
       "      <td>3332.750000</td>\n",
       "      <td>5.000000</td>\n",
       "      <td>100.000000</td>\n",
       "      <td>250.000000</td>\n",
       "      <td>1.000000</td>\n",
       "    </tr>\n",
       "    <tr>\n",
       "      <th>max</th>\n",
       "      <td>84136.00000</td>\n",
       "      <td>84986.000000</td>\n",
       "      <td>5.000000</td>\n",
       "      <td>1500.000000</td>\n",
       "      <td>2400.000000</td>\n",
       "      <td>1.000000</td>\n",
       "    </tr>\n",
       "  </tbody>\n",
       "</table>\n",
       "</div>"
      ],
      "text/plain": [
       "        price_yand    price_full     color_n     c_volume      c_power  \\\n",
       "count    500.00000    500.000000  500.000000   461.000000   475.000000   \n",
       "mean    4277.98800   4352.602000    3.414000   120.559653   223.120000   \n",
       "std     8687.47164   8818.235915    1.549001   166.669652   149.792755   \n",
       "min      505.00000    515.000000    1.000000    25.000000    13.000000   \n",
       "25%     1365.00000   1390.000000    2.000000    50.000000   150.000000   \n",
       "50%     1959.50000   1990.000000    3.000000    70.000000   200.000000   \n",
       "75%     3299.75000   3332.750000    5.000000   100.000000   250.000000   \n",
       "max    84136.00000  84986.000000    5.000000  1500.000000  2400.000000   \n",
       "\n",
       "          gr_numb  \n",
       "count  500.000000  \n",
       "mean     0.254000  \n",
       "std      0.435734  \n",
       "min      0.000000  \n",
       "25%      0.000000  \n",
       "50%      0.000000  \n",
       "75%      1.000000  \n",
       "max      1.000000  "
      ]
     },
     "execution_count": 164,
     "metadata": {},
     "output_type": "execute_result"
    }
   ],
   "source": [
    "df.describe()"
   ]
  },
  {
   "cell_type": "code",
   "execution_count": 156,
   "id": "0513d9a2",
   "metadata": {},
   "outputs": [
    {
     "data": {
      "text/plain": [
       "1.8310768567993074"
      ]
     },
     "execution_count": 156,
     "metadata": {},
     "output_type": "execute_result"
    }
   ],
   "source": [
    "#Средняя скидка по карте yandex pay\n",
    "(1-(df['price_yand']/df['price_full']).mean())*100"
   ]
  },
  {
   "cell_type": "markdown",
   "id": "502cd5a2",
   "metadata": {},
   "source": [
    "Отсортируем некоторые показатели по брендам и среднему значению. Можно заметить, что есть бренды которые производят крайне дешевые кофемолки (меньше 1000 рублей), а также профессиональные бренды (более 20 тысяч рублей)."
   ]
  },
  {
   "cell_type": "code",
   "execution_count": 157,
   "id": "315c3cbd",
   "metadata": {
    "scrolled": true
   },
   "outputs": [
    {
     "data": {
      "text/html": [
       "<div>\n",
       "<style scoped>\n",
       "    .dataframe tbody tr th:only-of-type {\n",
       "        vertical-align: middle;\n",
       "    }\n",
       "\n",
       "    .dataframe tbody tr th {\n",
       "        vertical-align: top;\n",
       "    }\n",
       "\n",
       "    .dataframe thead th {\n",
       "        text-align: right;\n",
       "    }\n",
       "</style>\n",
       "<table border=\"1\" class=\"dataframe\">\n",
       "  <thead>\n",
       "    <tr style=\"text-align: right;\">\n",
       "      <th></th>\n",
       "      <th>count</th>\n",
       "      <th>mean</th>\n",
       "      <th>min</th>\n",
       "      <th>max</th>\n",
       "    </tr>\n",
       "    <tr>\n",
       "      <th>brand</th>\n",
       "      <th></th>\n",
       "      <th></th>\n",
       "      <th></th>\n",
       "      <th></th>\n",
       "    </tr>\n",
       "  </thead>\n",
       "  <tbody>\n",
       "    <tr>\n",
       "      <th>beaika</th>\n",
       "      <td>1</td>\n",
       "      <td>723.000000</td>\n",
       "      <td>723.0</td>\n",
       "      <td>723.0</td>\n",
       "    </tr>\n",
       "    <tr>\n",
       "      <th>maxtronic</th>\n",
       "      <td>1</td>\n",
       "      <td>796.000000</td>\n",
       "      <td>796.0</td>\n",
       "      <td>796.0</td>\n",
       "    </tr>\n",
       "    <tr>\n",
       "      <th>lira</th>\n",
       "      <td>1</td>\n",
       "      <td>798.000000</td>\n",
       "      <td>798.0</td>\n",
       "      <td>798.0</td>\n",
       "    </tr>\n",
       "    <tr>\n",
       "      <th>chef</th>\n",
       "      <td>2</td>\n",
       "      <td>867.500000</td>\n",
       "      <td>728.0</td>\n",
       "      <td>1007.0</td>\n",
       "    </tr>\n",
       "    <tr>\n",
       "      <th>do</th>\n",
       "      <td>1</td>\n",
       "      <td>910.000000</td>\n",
       "      <td>910.0</td>\n",
       "      <td>910.0</td>\n",
       "    </tr>\n",
       "    <tr>\n",
       "      <th>...</th>\n",
       "      <td>...</td>\n",
       "      <td>...</td>\n",
       "      <td>...</td>\n",
       "      <td>...</td>\n",
       "    </tr>\n",
       "    <tr>\n",
       "      <th>cunill</th>\n",
       "      <td>1</td>\n",
       "      <td>29833.000000</td>\n",
       "      <td>29833.0</td>\n",
       "      <td>29833.0</td>\n",
       "    </tr>\n",
       "    <tr>\n",
       "      <th>saeco</th>\n",
       "      <td>2</td>\n",
       "      <td>42100.000000</td>\n",
       "      <td>42100.0</td>\n",
       "      <td>42100.0</td>\n",
       "    </tr>\n",
       "    <tr>\n",
       "      <th>eureka</th>\n",
       "      <td>2</td>\n",
       "      <td>48440.000000</td>\n",
       "      <td>19580.0</td>\n",
       "      <td>77300.0</td>\n",
       "    </tr>\n",
       "    <tr>\n",
       "      <th>nuova</th>\n",
       "      <td>2</td>\n",
       "      <td>55860.000000</td>\n",
       "      <td>55860.0</td>\n",
       "      <td>55860.0</td>\n",
       "    </tr>\n",
       "    <tr>\n",
       "      <th>fiorenzato</th>\n",
       "      <td>3</td>\n",
       "      <td>70622.666667</td>\n",
       "      <td>50980.0</td>\n",
       "      <td>84136.0</td>\n",
       "    </tr>\n",
       "  </tbody>\n",
       "</table>\n",
       "<p>109 rows × 4 columns</p>\n",
       "</div>"
      ],
      "text/plain": [
       "            count          mean      min      max\n",
       "brand                                            \n",
       "beaika          1    723.000000    723.0    723.0\n",
       "maxtronic       1    796.000000    796.0    796.0\n",
       "lira            1    798.000000    798.0    798.0\n",
       "chef            2    867.500000    728.0   1007.0\n",
       "do              1    910.000000    910.0    910.0\n",
       "...           ...           ...      ...      ...\n",
       "cunill          1  29833.000000  29833.0  29833.0\n",
       "saeco           2  42100.000000  42100.0  42100.0\n",
       "eureka          2  48440.000000  19580.0  77300.0\n",
       "nuova           2  55860.000000  55860.0  55860.0\n",
       "fiorenzato      3  70622.666667  50980.0  84136.0\n",
       "\n",
       "[109 rows x 4 columns]"
      ]
     },
     "execution_count": 157,
     "metadata": {},
     "output_type": "execute_result"
    }
   ],
   "source": [
    "br = df.groupby(['brand'])['price_yand'].agg(['count', 'mean', 'min', 'max']).sort_values(by = 'mean')\n",
    "br"
   ]
  },
  {
   "cell_type": "markdown",
   "id": "a241d19c",
   "metadata": {},
   "source": [
    "Далее отсортируем бренды по количеству представленных позиций. Наиболее часто встречается бренд kitfort (83 раза), также существует 56 позиций без бренда - это дешевые кофемолки без бренда.  "
   ]
  },
  {
   "cell_type": "code",
   "execution_count": 158,
   "id": "737ef4c5",
   "metadata": {},
   "outputs": [
    {
     "data": {
      "text/html": [
       "<div>\n",
       "<style scoped>\n",
       "    .dataframe tbody tr th:only-of-type {\n",
       "        vertical-align: middle;\n",
       "    }\n",
       "\n",
       "    .dataframe tbody tr th {\n",
       "        vertical-align: top;\n",
       "    }\n",
       "\n",
       "    .dataframe thead th {\n",
       "        text-align: right;\n",
       "    }\n",
       "</style>\n",
       "<table border=\"1\" class=\"dataframe\">\n",
       "  <thead>\n",
       "    <tr style=\"text-align: right;\">\n",
       "      <th></th>\n",
       "      <th>count</th>\n",
       "      <th>mean</th>\n",
       "      <th>min</th>\n",
       "      <th>max</th>\n",
       "    </tr>\n",
       "    <tr>\n",
       "      <th>brand</th>\n",
       "      <th></th>\n",
       "      <th></th>\n",
       "      <th></th>\n",
       "      <th></th>\n",
       "    </tr>\n",
       "  </thead>\n",
       "  <tbody>\n",
       "    <tr>\n",
       "      <th>airhot</th>\n",
       "      <td>1</td>\n",
       "      <td>7917.000000</td>\n",
       "      <td>7917.0</td>\n",
       "      <td>7917.0</td>\n",
       "    </tr>\n",
       "    <tr>\n",
       "      <th>rondell</th>\n",
       "      <td>1</td>\n",
       "      <td>5237.000000</td>\n",
       "      <td>5237.0</td>\n",
       "      <td>5237.0</td>\n",
       "    </tr>\n",
       "    <tr>\n",
       "      <th>maxtronic</th>\n",
       "      <td>1</td>\n",
       "      <td>796.000000</td>\n",
       "      <td>796.0</td>\n",
       "      <td>796.0</td>\n",
       "    </tr>\n",
       "    <tr>\n",
       "      <th>fragrant</th>\n",
       "      <td>1</td>\n",
       "      <td>2244.000000</td>\n",
       "      <td>2244.0</td>\n",
       "      <td>2244.0</td>\n",
       "    </tr>\n",
       "    <tr>\n",
       "      <th>pcg</th>\n",
       "      <td>1</td>\n",
       "      <td>1510.000000</td>\n",
       "      <td>1510.0</td>\n",
       "      <td>1510.0</td>\n",
       "    </tr>\n",
       "    <tr>\n",
       "      <th>...</th>\n",
       "      <td>...</td>\n",
       "      <td>...</td>\n",
       "      <td>...</td>\n",
       "      <td>...</td>\n",
       "    </tr>\n",
       "    <tr>\n",
       "      <th>kelli</th>\n",
       "      <td>15</td>\n",
       "      <td>1132.333333</td>\n",
       "      <td>826.0</td>\n",
       "      <td>1825.0</td>\n",
       "    </tr>\n",
       "    <tr>\n",
       "      <th>sakura</th>\n",
       "      <td>15</td>\n",
       "      <td>2178.533333</td>\n",
       "      <td>992.0</td>\n",
       "      <td>6901.0</td>\n",
       "    </tr>\n",
       "    <tr>\n",
       "      <th>marta</th>\n",
       "      <td>25</td>\n",
       "      <td>1239.760000</td>\n",
       "      <td>505.0</td>\n",
       "      <td>3331.0</td>\n",
       "    </tr>\n",
       "    <tr>\n",
       "      <th>none</th>\n",
       "      <td>56</td>\n",
       "      <td>1817.178571</td>\n",
       "      <td>537.0</td>\n",
       "      <td>9139.0</td>\n",
       "    </tr>\n",
       "    <tr>\n",
       "      <th>kitfort</th>\n",
       "      <td>83</td>\n",
       "      <td>4413.156627</td>\n",
       "      <td>1257.0</td>\n",
       "      <td>11232.0</td>\n",
       "    </tr>\n",
       "  </tbody>\n",
       "</table>\n",
       "<p>109 rows × 4 columns</p>\n",
       "</div>"
      ],
      "text/plain": [
       "           count         mean     min      max\n",
       "brand                                         \n",
       "airhot         1  7917.000000  7917.0   7917.0\n",
       "rondell        1  5237.000000  5237.0   5237.0\n",
       "maxtronic      1   796.000000   796.0    796.0\n",
       "fragrant       1  2244.000000  2244.0   2244.0\n",
       "pcg            1  1510.000000  1510.0   1510.0\n",
       "...          ...          ...     ...      ...\n",
       "kelli         15  1132.333333   826.0   1825.0\n",
       "sakura        15  2178.533333   992.0   6901.0\n",
       "marta         25  1239.760000   505.0   3331.0\n",
       "none          56  1817.178571   537.0   9139.0\n",
       "kitfort       83  4413.156627  1257.0  11232.0\n",
       "\n",
       "[109 rows x 4 columns]"
      ]
     },
     "execution_count": 158,
     "metadata": {},
     "output_type": "execute_result"
    }
   ],
   "source": [
    "br1 = df.groupby(['brand'])['price_yand'].agg(['count', 'mean', 'min', 'max']).sort_values(by = 'count')\n",
    "br1"
   ]
  },
  {
   "cell_type": "markdown",
   "id": "d68e89d5",
   "metadata": {},
   "source": [
    "Далее, посчитаем корреляции между переменными. Наибольшие корреляции наблюдаются между перемеными price_yand и c_volume, price_yand и gr_numb, c_volume и gr_numb. "
   ]
  },
  {
   "cell_type": "code",
   "execution_count": 166,
   "id": "cd768bfb",
   "metadata": {},
   "outputs": [
    {
     "data": {
      "text/html": [
       "<div>\n",
       "<style scoped>\n",
       "    .dataframe tbody tr th:only-of-type {\n",
       "        vertical-align: middle;\n",
       "    }\n",
       "\n",
       "    .dataframe tbody tr th {\n",
       "        vertical-align: top;\n",
       "    }\n",
       "\n",
       "    .dataframe thead th {\n",
       "        text-align: right;\n",
       "    }\n",
       "</style>\n",
       "<table border=\"1\" class=\"dataframe\">\n",
       "  <thead>\n",
       "    <tr style=\"text-align: right;\">\n",
       "      <th></th>\n",
       "      <th>price_yand</th>\n",
       "      <th>price_full</th>\n",
       "      <th>c_volume</th>\n",
       "      <th>c_power</th>\n",
       "      <th>gr_numb</th>\n",
       "      <th>color_n</th>\n",
       "    </tr>\n",
       "  </thead>\n",
       "  <tbody>\n",
       "    <tr>\n",
       "      <th>price_yand</th>\n",
       "      <td>1.000</td>\n",
       "      <td>1.000</td>\n",
       "      <td>0.792</td>\n",
       "      <td>0.090</td>\n",
       "      <td>0.415</td>\n",
       "      <td>0.021</td>\n",
       "    </tr>\n",
       "    <tr>\n",
       "      <th>price_full</th>\n",
       "      <td>1.000</td>\n",
       "      <td>1.000</td>\n",
       "      <td>0.793</td>\n",
       "      <td>0.089</td>\n",
       "      <td>0.416</td>\n",
       "      <td>0.022</td>\n",
       "    </tr>\n",
       "    <tr>\n",
       "      <th>c_volume</th>\n",
       "      <td>0.792</td>\n",
       "      <td>0.793</td>\n",
       "      <td>1.000</td>\n",
       "      <td>0.177</td>\n",
       "      <td>0.428</td>\n",
       "      <td>0.058</td>\n",
       "    </tr>\n",
       "    <tr>\n",
       "      <th>c_power</th>\n",
       "      <td>0.090</td>\n",
       "      <td>0.089</td>\n",
       "      <td>0.177</td>\n",
       "      <td>1.000</td>\n",
       "      <td>-0.123</td>\n",
       "      <td>-0.107</td>\n",
       "    </tr>\n",
       "    <tr>\n",
       "      <th>gr_numb</th>\n",
       "      <td>0.415</td>\n",
       "      <td>0.416</td>\n",
       "      <td>0.428</td>\n",
       "      <td>-0.123</td>\n",
       "      <td>1.000</td>\n",
       "      <td>0.206</td>\n",
       "    </tr>\n",
       "    <tr>\n",
       "      <th>color_n</th>\n",
       "      <td>0.021</td>\n",
       "      <td>0.022</td>\n",
       "      <td>0.058</td>\n",
       "      <td>-0.107</td>\n",
       "      <td>0.206</td>\n",
       "      <td>1.000</td>\n",
       "    </tr>\n",
       "  </tbody>\n",
       "</table>\n",
       "</div>"
      ],
      "text/plain": [
       "            price_yand  price_full  c_volume  c_power  gr_numb  color_n\n",
       "price_yand       1.000       1.000     0.792    0.090    0.415    0.021\n",
       "price_full       1.000       1.000     0.793    0.089    0.416    0.022\n",
       "c_volume         0.792       0.793     1.000    0.177    0.428    0.058\n",
       "c_power          0.090       0.089     0.177    1.000   -0.123   -0.107\n",
       "gr_numb          0.415       0.416     0.428   -0.123    1.000    0.206\n",
       "color_n          0.021       0.022     0.058   -0.107    0.206    1.000"
      ]
     },
     "execution_count": 166,
     "metadata": {},
     "output_type": "execute_result"
    }
   ],
   "source": [
    "corr_mat = df[['price_yand','price_full','c_volume','c_power', 'gr_numb', 'color_n']].corr().round(3)\n",
    "corr_mat"
   ]
  },
  {
   "cell_type": "code",
   "execution_count": 167,
   "id": "ef2581f0",
   "metadata": {
    "scrolled": true
   },
   "outputs": [
    {
     "data": {
      "text/plain": [
       "<Axes: >"
      ]
     },
     "execution_count": 167,
     "metadata": {},
     "output_type": "execute_result"
    },
    {
     "data": {
      "image/png": "[encoded data removed]",
      "text/plain": [
       "<Figure size 640x480 with 2 Axes>"
      ]
     },
     "metadata": {},
     "output_type": "display_data"
    }
   ],
   "source": [
    "sns.heatmap(corr_mat, square = True,vmin = -1, vmax = 1, cmap = 'coolwarm')"
   ]
  },
  {
   "cell_type": "markdown",
   "id": "7c0fbd2d",
   "metadata": {},
   "source": [
    "Построим графики всех переменных, на них мы также можем заметить наличие связи между переменными. "
   ]
  },
  {
   "cell_type": "code",
   "execution_count": 74,
   "id": "25f2c5c6",
   "metadata": {
    "scrolled": true
   },
   "outputs": [
    {
     "name": "stderr",
     "output_type": "stream",
     "text": [
      "C:\\Users\\kazar\\anaconda3\\Lib\\site-packages\\seaborn\\axisgrid.py:118: UserWarning: The figure layout has changed to tight\n",
      "  self._figure.tight_layout(*args, **kwargs)\n"
     ]
    },
    {
     "data": {
      "image/png": "[encoded data removed]",
      "text/plain": [
       "<Figure size 1000x1000 with 20 Axes>"
      ]
     },
     "metadata": {},
     "output_type": "display_data"
    }
   ],
   "source": [
    "sns.pairplot(data = df[['price_full','c_volume','c_power','gr_numb']], diag_kind = 'hist')\n",
    "pass"
   ]
  },
  {
   "cell_type": "markdown",
   "id": "62cefb79",
   "metadata": {},
   "source": [
    "Построим график между переменными c_volume и price_full, которые показали наибольшую корреляцию, кроме того проведем линию регрессии"
   ]
  },
  {
   "cell_type": "code",
   "execution_count": 70,
   "id": "128bcc9c",
   "metadata": {
    "scrolled": true
   },
   "outputs": [
    {
     "data": {
      "text/plain": [
       "<seaborn.axisgrid.JointGrid at 0x28a8e95d550>"
      ]
     },
     "execution_count": 70,
     "metadata": {},
     "output_type": "execute_result"
    },
    {
     "data": {
      "image/png": "[encoded data removed]",
      "text/plain": [
       "<Figure size 600x600 with 3 Axes>"
      ]
     },
     "metadata": {},
     "output_type": "display_data"
    }
   ],
   "source": [
    "sns.jointplot(x = 'c_volume', y = 'price_full', kind = 'reg', data = df)"
   ]
  },
  {
   "cell_type": "markdown",
   "id": "5f378e2c",
   "metadata": {},
   "source": [
    "На данном графике можно заметить, что кофемолки с жерновой системой помола чаще имеют большие объем и цену. "
   ]
  },
  {
   "cell_type": "code",
   "execution_count": 75,
   "id": "2f2a2d3e",
   "metadata": {
    "scrolled": true
   },
   "outputs": [
    {
     "data": {
      "image/png": "[encoded data removed]",
      "text/plain": [
       "<Figure size 600x400 with 1 Axes>"
      ]
     },
     "metadata": {},
     "output_type": "display_data"
    }
   ],
   "source": [
    "plt.figure(figsize = (6,4))\n",
    "sns.scatterplot(x = 'price_yand', y = 'c_volume', hue = 'c_gr_syst',data = df, alpha = 0.7,  palette=\"deep\")\n",
    "pass"
   ]
  },
  {
   "cell_type": "code",
   "execution_count": 375,
   "id": "9dce370c",
   "metadata": {},
   "outputs": [
    {
     "data": {
      "text/plain": [
       "10452.795275590552"
      ]
     },
     "execution_count": 375,
     "metadata": {},
     "output_type": "execute_result"
    }
   ],
   "source": [
    "df[df['gr_numb'] == 1].price_yand.mean() # также можно провести t-test о равенстве средних меджу группами "
   ]
  },
  {
   "cell_type": "code",
   "execution_count": 376,
   "id": "98bb9849",
   "metadata": {},
   "outputs": [
    {
     "data": {
      "text/plain": [
       "2175.573726541555"
      ]
     },
     "execution_count": 376,
     "metadata": {},
     "output_type": "execute_result"
    }
   ],
   "source": [
    "df[df['gr_numb'] == 0].price_yand.mean()"
   ]
  },
  {
   "cell_type": "markdown",
   "id": "72c92ac3",
   "metadata": {},
   "source": [
    "Синюю точку с вместимостью 1200 граммов можно принять за выброс, однако это действительно кофемолка с большой вместимостью и системой 'ротационный нож', поэтому её цена достаточно низкая"
   ]
  },
  {
   "cell_type": "code",
   "execution_count": 107,
   "id": "a9a80875",
   "metadata": {},
   "outputs": [
    {
     "data": {
      "text/html": [
       "<div>\n",
       "<style scoped>\n",
       "    .dataframe tbody tr th:only-of-type {\n",
       "        vertical-align: middle;\n",
       "    }\n",
       "\n",
       "    .dataframe tbody tr th {\n",
       "        vertical-align: top;\n",
       "    }\n",
       "\n",
       "    .dataframe thead th {\n",
       "        text-align: right;\n",
       "    }\n",
       "</style>\n",
       "<table border=\"1\" class=\"dataframe\">\n",
       "  <thead>\n",
       "    <tr style=\"text-align: right;\">\n",
       "      <th></th>\n",
       "      <th>name</th>\n",
       "      <th>price_yand</th>\n",
       "      <th>price_full</th>\n",
       "      <th>color</th>\n",
       "      <th>brand</th>\n",
       "      <th>c_volume</th>\n",
       "      <th>c_gr_syst</th>\n",
       "      <th>c_power</th>\n",
       "      <th>c_rotation</th>\n",
       "      <th>gr_numb</th>\n",
       "      <th>pred_price</th>\n",
       "    </tr>\n",
       "  </thead>\n",
       "  <tbody>\n",
       "    <tr>\n",
       "      <th>11</th>\n",
       "      <td>Кофемолка Kitfort КТ-776</td>\n",
       "      <td>2930.0</td>\n",
       "      <td>2990.0</td>\n",
       "      <td>черный</td>\n",
       "      <td>kitfort</td>\n",
       "      <td>1200.0</td>\n",
       "      <td>Система помола: ротационный нож</td>\n",
       "      <td>500.0</td>\n",
       "      <td>Регулировка степени помола: есть</td>\n",
       "      <td>0</td>\n",
       "      <td>47133.470037</td>\n",
       "    </tr>\n",
       "    <tr>\n",
       "      <th>109</th>\n",
       "      <td>Кофемолка Kitfort КТ-776</td>\n",
       "      <td>2803.0</td>\n",
       "      <td>2890.0</td>\n",
       "      <td>черный</td>\n",
       "      <td>kitfort</td>\n",
       "      <td>1200.0</td>\n",
       "      <td>Система помола: ротационный нож</td>\n",
       "      <td>500.0</td>\n",
       "      <td>Регулировка степени помола: есть</td>\n",
       "      <td>0</td>\n",
       "      <td>47133.470037</td>\n",
       "    </tr>\n",
       "  </tbody>\n",
       "</table>\n",
       "</div>"
      ],
      "text/plain": [
       "                         name  price_yand  price_full   color    brand  \\\n",
       "11   Кофемолка Kitfort КТ-776      2930.0      2990.0  черный  kitfort   \n",
       "109  Кофемолка Kitfort КТ-776      2803.0      2890.0  черный  kitfort   \n",
       "\n",
       "     c_volume                        c_gr_syst  c_power  \\\n",
       "11     1200.0  Система помола: ротационный нож    500.0   \n",
       "109    1200.0  Система помола: ротационный нож    500.0   \n",
       "\n",
       "                           c_rotation  gr_numb    pred_price  \n",
       "11   Регулировка степени помола: есть        0  47133.470037  \n",
       "109  Регулировка степени помола: есть        0  47133.470037  "
      ]
     },
     "execution_count": 107,
     "metadata": {},
     "output_type": "execute_result"
    }
   ],
   "source": [
    "df[(df['c_volume'] > 800) & (df['price_yand'] < 20000)]"
   ]
  },
  {
   "cell_type": "markdown",
   "id": "c5dabe04",
   "metadata": {},
   "source": [
    "## Этап 3. Регрессионный анализ "
   ]
  },
  {
   "cell_type": "markdown",
   "id": "e64b5284",
   "metadata": {},
   "source": [
    "Удалим Na значения, потому что функция sm.OLS не может работать с ними "
   ]
  },
  {
   "cell_type": "code",
   "execution_count": 168,
   "id": "3897b017",
   "metadata": {},
   "outputs": [],
   "source": [
    "df1 = df.dropna()"
   ]
  },
  {
   "cell_type": "code",
   "execution_count": 185,
   "id": "fd73d580",
   "metadata": {},
   "outputs": [
    {
     "name": "stdout",
     "output_type": "stream",
     "text": [
      "<class 'pandas.core.frame.DataFrame'>\n",
      "Index: 452 entries, 0 to 498\n",
      "Data columns (total 12 columns):\n",
      " #   Column      Non-Null Count  Dtype  \n",
      "---  ------      --------------  -----  \n",
      " 0   name        452 non-null    object \n",
      " 1   price_yand  452 non-null    float64\n",
      " 2   price_full  452 non-null    float64\n",
      " 3   color       452 non-null    object \n",
      " 4   brand       452 non-null    object \n",
      " 5   color_n     452 non-null    int64  \n",
      " 6   c_volume    452 non-null    float64\n",
      " 7   c_gr_syst   452 non-null    object \n",
      " 8   c_power     452 non-null    float64\n",
      " 9   c_rotation  452 non-null    object \n",
      " 10  gr_numb     452 non-null    int64  \n",
      " 11  pred_price  452 non-null    float64\n",
      "dtypes: float64(5), int64(2), object(5)\n",
      "memory usage: 62.1+ KB\n"
     ]
    }
   ],
   "source": [
    "df1.info()"
   ]
  },
  {
   "cell_type": "markdown",
   "id": "f7aa7774",
   "metadata": {},
   "source": [
    "Сначала построим линейную регрессию, где зависимой переменной (y) будет выступать цена кофемолки (price_yand), а независимыми переменными (x) вместимость, система помола и мощность  "
   ]
  },
  {
   "cell_type": "code",
   "execution_count": 312,
   "id": "f05bfeb4",
   "metadata": {},
   "outputs": [
    {
     "data": {
      "text/html": [
       "<table class=\"simpletable\">\n",
       "<caption>OLS Regression Results</caption>\n",
       "<tr>\n",
       "  <th>Dep. Variable:</th>       <td>price_yand</td>    <th>  R-squared:         </th> <td>   0.639</td>\n",
       "</tr>\n",
       "<tr>\n",
       "  <th>Model:</th>                   <td>OLS</td>       <th>  Adj. R-squared:    </th> <td>   0.636</td>\n",
       "</tr>\n",
       "<tr>\n",
       "  <th>Method:</th>             <td>Least Squares</td>  <th>  F-statistic:       </th> <td>   263.8</td>\n",
       "</tr>\n",
       "<tr>\n",
       "  <th>Date:</th>             <td>Wed, 03 Jul 2024</td> <th>  Prob (F-statistic):</th> <td>1.35e-98</td>\n",
       "</tr>\n",
       "<tr>\n",
       "  <th>Time:</th>                 <td>19:12:53</td>     <th>  Log-Likelihood:    </th> <td> -4530.8</td>\n",
       "</tr>\n",
       "<tr>\n",
       "  <th>No. Observations:</th>      <td>   452</td>      <th>  AIC:               </th> <td>   9070.</td>\n",
       "</tr>\n",
       "<tr>\n",
       "  <th>Df Residuals:</th>          <td>   448</td>      <th>  BIC:               </th> <td>   9086.</td>\n",
       "</tr>\n",
       "<tr>\n",
       "  <th>Df Model:</th>              <td>     3</td>      <th>                     </th>     <td> </td>   \n",
       "</tr>\n",
       "<tr>\n",
       "  <th>Covariance Type:</th>      <td>nonrobust</td>    <th>                     </th>     <td> </td>   \n",
       "</tr>\n",
       "</table>\n",
       "<table class=\"simpletable\">\n",
       "<tr>\n",
       "      <td></td>        <th>coef</th>     <th>std err</th>      <th>t</th>      <th>P>|t|</th>  <th>[0.025</th>    <th>0.975]</th>  \n",
       "</tr>\n",
       "<tr>\n",
       "  <th>const</th>    <td> -969.8425</td> <td>  619.966</td> <td>   -1.564</td> <td> 0.118</td> <td>-2188.246</td> <td>  248.561</td>\n",
       "</tr>\n",
       "<tr>\n",
       "  <th>c_volume</th> <td>   40.1760</td> <td>    1.771</td> <td>   22.682</td> <td> 0.000</td> <td>   36.695</td> <td>   43.657</td>\n",
       "</tr>\n",
       "<tr>\n",
       "  <th>gr_numb</th>  <td> 2409.7644</td> <td>  687.291</td> <td>    3.506</td> <td> 0.001</td> <td> 1059.050</td> <td> 3760.479</td>\n",
       "</tr>\n",
       "<tr>\n",
       "  <th>c_power</th>  <td>   -0.2508</td> <td>    2.509</td> <td>   -0.100</td> <td> 0.920</td> <td>   -5.182</td> <td>    4.680</td>\n",
       "</tr>\n",
       "</table>\n",
       "<table class=\"simpletable\">\n",
       "<tr>\n",
       "  <th>Omnibus:</th>       <td>150.130</td> <th>  Durbin-Watson:     </th> <td>   2.091</td> \n",
       "</tr>\n",
       "<tr>\n",
       "  <th>Prob(Omnibus):</th> <td> 0.000</td>  <th>  Jarque-Bera (JB):  </th> <td>14828.769</td>\n",
       "</tr>\n",
       "<tr>\n",
       "  <th>Skew:</th>          <td>-0.243</td>  <th>  Prob(JB):          </th> <td>    0.00</td> \n",
       "</tr>\n",
       "<tr>\n",
       "  <th>Kurtosis:</th>      <td>31.056</td>  <th>  Cond. No.          </th> <td>    833.</td> \n",
       "</tr>\n",
       "</table><br/><br/>Notes:<br/>[1] Standard Errors assume that the covariance matrix of the errors is correctly specified."
      ],
      "text/latex": [
       "\\begin{center}\n",
       "\\begin{tabular}{lclc}\n",
       "\\toprule\n",
       "\\textbf{Dep. Variable:}    &   price\\_yand    & \\textbf{  R-squared:         } &     0.639   \\\\\n",
       "\\textbf{Model:}            &       OLS        & \\textbf{  Adj. R-squared:    } &     0.636   \\\\\n",
       "\\textbf{Method:}           &  Least Squares   & \\textbf{  F-statistic:       } &     263.8   \\\\\n",
       "\\textbf{Date:}             & Wed, 03 Jul 2024 & \\textbf{  Prob (F-statistic):} &  1.35e-98   \\\\\n",
       "\\textbf{Time:}             &     19:12:53     & \\textbf{  Log-Likelihood:    } &   -4530.8   \\\\\n",
       "\\textbf{No. Observations:} &         452      & \\textbf{  AIC:               } &     9070.   \\\\\n",
       "\\textbf{Df Residuals:}     &         448      & \\textbf{  BIC:               } &     9086.   \\\\\n",
       "\\textbf{Df Model:}         &           3      & \\textbf{                     } &             \\\\\n",
       "\\textbf{Covariance Type:}  &    nonrobust     & \\textbf{                     } &             \\\\\n",
       "\\bottomrule\n",
       "\\end{tabular}\n",
       "\\begin{tabular}{lcccccc}\n",
       "                   & \\textbf{coef} & \\textbf{std err} & \\textbf{t} & \\textbf{P$> |$t$|$} & \\textbf{[0.025} & \\textbf{0.975]}  \\\\\n",
       "\\midrule\n",
       "\\textbf{const}     &    -969.8425  &      619.966     &    -1.564  &         0.118        &    -2188.246    &      248.561     \\\\\n",
       "\\textbf{c\\_volume} &      40.1760  &        1.771     &    22.682  &         0.000        &       36.695    &       43.657     \\\\\n",
       "\\textbf{gr\\_numb}  &    2409.7644  &      687.291     &     3.506  &         0.001        &     1059.050    &     3760.479     \\\\\n",
       "\\textbf{c\\_power}  &      -0.2508  &        2.509     &    -0.100  &         0.920        &       -5.182    &        4.680     \\\\\n",
       "\\bottomrule\n",
       "\\end{tabular}\n",
       "\\begin{tabular}{lclc}\n",
       "\\textbf{Omnibus:}       & 150.130 & \\textbf{  Durbin-Watson:     } &     2.091  \\\\\n",
       "\\textbf{Prob(Omnibus):} &   0.000 & \\textbf{  Jarque-Bera (JB):  } & 14828.769  \\\\\n",
       "\\textbf{Skew:}          &  -0.243 & \\textbf{  Prob(JB):          } &      0.00  \\\\\n",
       "\\textbf{Kurtosis:}      &  31.056 & \\textbf{  Cond. No.          } &      833.  \\\\\n",
       "\\bottomrule\n",
       "\\end{tabular}\n",
       "%\\caption{OLS Regression Results}\n",
       "\\end{center}\n",
       "\n",
       "Notes: \\newline\n",
       " [1] Standard Errors assume that the covariance matrix of the errors is correctly specified."
      ],
      "text/plain": [
       "<class 'statsmodels.iolib.summary.Summary'>\n",
       "\"\"\"\n",
       "                            OLS Regression Results                            \n",
       "==============================================================================\n",
       "Dep. Variable:             price_yand   R-squared:                       0.639\n",
       "Model:                            OLS   Adj. R-squared:                  0.636\n",
       "Method:                 Least Squares   F-statistic:                     263.8\n",
       "Date:                Wed, 03 Jul 2024   Prob (F-statistic):           1.35e-98\n",
       "Time:                        19:12:53   Log-Likelihood:                -4530.8\n",
       "No. Observations:                 452   AIC:                             9070.\n",
       "Df Residuals:                     448   BIC:                             9086.\n",
       "Df Model:                           3                                         \n",
       "Covariance Type:            nonrobust                                         \n",
       "==============================================================================\n",
       "                 coef    std err          t      P>|t|      [0.025      0.975]\n",
       "------------------------------------------------------------------------------\n",
       "const       -969.8425    619.966     -1.564      0.118   -2188.246     248.561\n",
       "c_volume      40.1760      1.771     22.682      0.000      36.695      43.657\n",
       "gr_numb     2409.7644    687.291      3.506      0.001    1059.050    3760.479\n",
       "c_power       -0.2508      2.509     -0.100      0.920      -5.182       4.680\n",
       "==============================================================================\n",
       "Omnibus:                      150.130   Durbin-Watson:                   2.091\n",
       "Prob(Omnibus):                  0.000   Jarque-Bera (JB):            14828.769\n",
       "Skew:                          -0.243   Prob(JB):                         0.00\n",
       "Kurtosis:                      31.056   Cond. No.                         833.\n",
       "==============================================================================\n",
       "\n",
       "Notes:\n",
       "[1] Standard Errors assume that the covariance matrix of the errors is correctly specified.\n",
       "\"\"\""
      ]
     },
     "execution_count": 312,
     "metadata": {},
     "output_type": "execute_result"
    }
   ],
   "source": [
    "X = df1[['c_volume', 'gr_numb', 'c_power']]\n",
    "Y = df1['price_yand']\n",
    "X = sm.add_constant(X)\n",
    "reg_res = sm.OLS(Y, X).fit()\n",
    "reg_res.summary()"
   ]
  },
  {
   "cell_type": "markdown",
   "id": "be4bdf83",
   "metadata": {},
   "source": [
    "Модель в целом являеться статистически значимой (overall significant), так как Prob (F-statistic) < 0.05\n",
    "\n",
    "Коэффициенты c_volume и gr_numb является статистически значимыми ну уровне значимости 5% (p-value < 0.05), поэтому мы можем иъ интерпретировать. \n",
    "\n",
    "При увеличении вместимости (c_volume) на 1 г, цена кофемолки в среднем увеличивается на 40.17 рублей. \n",
    "\n",
    "Если кофемолка имеет жерновую систему помола (gr_numb), то её цена в среднем увеличивается на 2409 рублей. \n",
    "\n",
    "R^2 составляет 0.63, регрессоры объясняют 63% дисперсий зависимой переменой. "
   ]
  },
  {
   "cell_type": "code",
   "execution_count": 271,
   "id": "92a6ddab",
   "metadata": {},
   "outputs": [
    {
     "data": {
      "text/plain": [
       "array([61503.23797812])"
      ]
     },
     "execution_count": 271,
     "metadata": {},
     "output_type": "execute_result"
    }
   ],
   "source": [
    "v_max = df1['c_volume'].max()\n",
    "g_max = df1['gr_numb'].max()\n",
    "p_max = df1['c_power'].max()\n",
    "\n",
    "reg_res.predict([1, v_max, g_max, p_max])"
   ]
  },
  {
   "cell_type": "markdown",
   "id": "5b3622f5",
   "metadata": {},
   "source": [
    "Попробуем предсказать цену кофемолки при максимальных значениях регрессеров. В таком случае её цена составит 61503 рублей. \n"
   ]
  },
  {
   "cell_type": "code",
   "execution_count": 272,
   "id": "c8f6b4f7",
   "metadata": {},
   "outputs": [
    {
     "name": "stderr",
     "output_type": "stream",
     "text": [
      "C:\\Users\\kazar\\AppData\\Local\\Temp\\ipykernel_2196\\2404119300.py:2: SettingWithCopyWarning: \n",
      "A value is trying to be set on a copy of a slice from a DataFrame.\n",
      "Try using .loc[row_indexer,col_indexer] = value instead\n",
      "\n",
      "See the caveats in the documentation: https://pandas.pydata.org/pandas-docs/stable/user_guide/indexing.html#returning-a-view-versus-a-copy\n",
      "  df1['pred_price'] = pred1\n"
     ]
    }
   ],
   "source": [
    "pred1 = reg_res.predict(X)\n",
    "df1['pred_price'] = pred1"
   ]
  },
  {
   "cell_type": "markdown",
   "id": "719a4aa4",
   "metadata": {},
   "source": [
    "Далее предскажем все значения в датасете и добавим их в df1 "
   ]
  },
  {
   "cell_type": "code",
   "execution_count": 273,
   "id": "c517125d",
   "metadata": {
    "scrolled": false
   },
   "outputs": [
    {
     "data": {
      "text/html": [
       "<div>\n",
       "<style scoped>\n",
       "    .dataframe tbody tr th:only-of-type {\n",
       "        vertical-align: middle;\n",
       "    }\n",
       "\n",
       "    .dataframe tbody tr th {\n",
       "        vertical-align: top;\n",
       "    }\n",
       "\n",
       "    .dataframe thead th {\n",
       "        text-align: right;\n",
       "    }\n",
       "</style>\n",
       "<table border=\"1\" class=\"dataframe\">\n",
       "  <thead>\n",
       "    <tr style=\"text-align: right;\">\n",
       "      <th></th>\n",
       "      <th>name</th>\n",
       "      <th>price_yand</th>\n",
       "      <th>price_full</th>\n",
       "      <th>color</th>\n",
       "      <th>brand</th>\n",
       "      <th>color_n</th>\n",
       "      <th>c_volume</th>\n",
       "      <th>c_gr_syst</th>\n",
       "      <th>c_power</th>\n",
       "      <th>c_rotation</th>\n",
       "      <th>gr_numb</th>\n",
       "      <th>pred_price</th>\n",
       "    </tr>\n",
       "  </thead>\n",
       "  <tbody>\n",
       "    <tr>\n",
       "      <th>0</th>\n",
       "      <td>Кофемолка «3 в 1» Kitfort KT-799</td>\n",
       "      <td>2342.0</td>\n",
       "      <td>2390.0</td>\n",
       "      <td>черный</td>\n",
       "      <td>kitfort</td>\n",
       "      <td>5</td>\n",
       "      <td>40.0</td>\n",
       "      <td>Система помола: ротационный нож</td>\n",
       "      <td>210.0</td>\n",
       "      <td>Особенности: блокировка включения при снятой к...</td>\n",
       "      <td>0</td>\n",
       "      <td>584.521398</td>\n",
       "    </tr>\n",
       "    <tr>\n",
       "      <th>1</th>\n",
       "      <td>Кофемолка Kitfort KT-799</td>\n",
       "      <td>2237.0</td>\n",
       "      <td>2237.0</td>\n",
       "      <td>черный</td>\n",
       "      <td>kitfort</td>\n",
       "      <td>5</td>\n",
       "      <td>40.0</td>\n",
       "      <td>Система помола: ротационный нож</td>\n",
       "      <td>210.0</td>\n",
       "      <td>Особенности: блокировка включения при снятой к...</td>\n",
       "      <td>0</td>\n",
       "      <td>584.521398</td>\n",
       "    </tr>\n",
       "    <tr>\n",
       "      <th>2</th>\n",
       "      <td>Кофемолка Kitfort КТ-798</td>\n",
       "      <td>1362.0</td>\n",
       "      <td>1390.0</td>\n",
       "      <td>черный</td>\n",
       "      <td>kitfort</td>\n",
       "      <td>5</td>\n",
       "      <td>50.0</td>\n",
       "      <td>Система помола: ротационный нож</td>\n",
       "      <td>180.0</td>\n",
       "      <td>Особенности: блокировка включения при снятой к...</td>\n",
       "      <td>0</td>\n",
       "      <td>993.806397</td>\n",
       "    </tr>\n",
       "    <tr>\n",
       "      <th>3</th>\n",
       "      <td>Кофемолка POLARIS PCG 2014</td>\n",
       "      <td>2049.0</td>\n",
       "      <td>2091.0</td>\n",
       "      <td>черный</td>\n",
       "      <td>polaris</td>\n",
       "      <td>5</td>\n",
       "      <td>50.0</td>\n",
       "      <td>Система помола: ротационный нож</td>\n",
       "      <td>200.0</td>\n",
       "      <td>Особенности: блокировка включения при снятой к...</td>\n",
       "      <td>0</td>\n",
       "      <td>988.789666</td>\n",
       "    </tr>\n",
       "    <tr>\n",
       "      <th>4</th>\n",
       "      <td>Кофемолка Kitfort KT-769</td>\n",
       "      <td>1950.0</td>\n",
       "      <td>1990.0</td>\n",
       "      <td>синий</td>\n",
       "      <td>kitfort</td>\n",
       "      <td>4</td>\n",
       "      <td>60.0</td>\n",
       "      <td>Система помола: ротационный нож</td>\n",
       "      <td>200.0</td>\n",
       "      <td>0</td>\n",
       "      <td>0</td>\n",
       "      <td>1390.549568</td>\n",
       "    </tr>\n",
       "  </tbody>\n",
       "</table>\n",
       "</div>"
      ],
      "text/plain": [
       "                               name  price_yand  price_full   color    brand  \\\n",
       "0  Кофемолка «3 в 1» Kitfort KT-799      2342.0      2390.0  черный  kitfort   \n",
       "1          Кофемолка Kitfort KT-799      2237.0      2237.0  черный  kitfort   \n",
       "2          Кофемолка Kitfort КТ-798      1362.0      1390.0  черный  kitfort   \n",
       "3        Кофемолка POLARIS PCG 2014      2049.0      2091.0  черный  polaris   \n",
       "4          Кофемолка Kitfort KT-769      1950.0      1990.0   синий  kitfort   \n",
       "\n",
       "   color_n  c_volume                        c_gr_syst  c_power  \\\n",
       "0        5      40.0  Система помола: ротационный нож    210.0   \n",
       "1        5      40.0  Система помола: ротационный нож    210.0   \n",
       "2        5      50.0  Система помола: ротационный нож    180.0   \n",
       "3        5      50.0  Система помола: ротационный нож    200.0   \n",
       "4        4      60.0  Система помола: ротационный нож    200.0   \n",
       "\n",
       "                                          c_rotation  gr_numb   pred_price  \n",
       "0  Особенности: блокировка включения при снятой к...        0   584.521398  \n",
       "1  Особенности: блокировка включения при снятой к...        0   584.521398  \n",
       "2  Особенности: блокировка включения при снятой к...        0   993.806397  \n",
       "3  Особенности: блокировка включения при снятой к...        0   988.789666  \n",
       "4                                                  0        0  1390.549568  "
      ]
     },
     "execution_count": 273,
     "metadata": {},
     "output_type": "execute_result"
    }
   ],
   "source": [
    "df1.head()"
   ]
  },
  {
   "cell_type": "markdown",
   "id": "10e647f8",
   "metadata": {},
   "source": [
    "В соответствии с предсказанными значениями, сумма ошибок близится к нулю "
   ]
  },
  {
   "cell_type": "code",
   "execution_count": 274,
   "id": "4b24474b",
   "metadata": {},
   "outputs": [
    {
     "data": {
      "text/plain": [
       "1.7471393221057951e-09"
      ]
     },
     "execution_count": 274,
     "metadata": {},
     "output_type": "execute_result"
    }
   ],
   "source": [
    "sum(df1['price_yand']-df1['pred_price'])"
   ]
  },
  {
   "cell_type": "markdown",
   "id": "818e1b75",
   "metadata": {},
   "source": [
    "Далее, уберем статистически незначимый регрессор (c_power) из модели. Оказалось, что значение информационного критерия Акаике (AIC) в новой модели меньше (9068<9070), соотвественно модель reg_res1 более предпочтительна. "
   ]
  },
  {
   "cell_type": "code",
   "execution_count": 315,
   "id": "4a6158fe",
   "metadata": {
    "collapsed": true
   },
   "outputs": [
    {
     "data": {
      "text/html": [
       "<table class=\"simpletable\">\n",
       "<caption>OLS Regression Results</caption>\n",
       "<tr>\n",
       "  <th>Dep. Variable:</th>       <td>price_yand</td>    <th>  R-squared:         </th> <td>   0.639</td> \n",
       "</tr>\n",
       "<tr>\n",
       "  <th>Model:</th>                   <td>OLS</td>       <th>  Adj. R-squared:    </th> <td>   0.637</td> \n",
       "</tr>\n",
       "<tr>\n",
       "  <th>Method:</th>             <td>Least Squares</td>  <th>  F-statistic:       </th> <td>   396.6</td> \n",
       "</tr>\n",
       "<tr>\n",
       "  <th>Date:</th>             <td>Wed, 03 Jul 2024</td> <th>  Prob (F-statistic):</th> <td>6.04e-100</td>\n",
       "</tr>\n",
       "<tr>\n",
       "  <th>Time:</th>                 <td>19:13:50</td>     <th>  Log-Likelihood:    </th> <td> -4530.8</td> \n",
       "</tr>\n",
       "<tr>\n",
       "  <th>No. Observations:</th>      <td>   452</td>      <th>  AIC:               </th> <td>   9068.</td> \n",
       "</tr>\n",
       "<tr>\n",
       "  <th>Df Residuals:</th>          <td>   449</td>      <th>  BIC:               </th> <td>   9080.</td> \n",
       "</tr>\n",
       "<tr>\n",
       "  <th>Df Model:</th>              <td>     2</td>      <th>                     </th>     <td> </td>    \n",
       "</tr>\n",
       "<tr>\n",
       "  <th>Covariance Type:</th>      <td>nonrobust</td>    <th>                     </th>     <td> </td>    \n",
       "</tr>\n",
       "</table>\n",
       "<table class=\"simpletable\">\n",
       "<tr>\n",
       "      <td></td>        <th>coef</th>     <th>std err</th>      <th>t</th>      <th>P>|t|</th>  <th>[0.025</th>    <th>0.975]</th>  \n",
       "</tr>\n",
       "<tr>\n",
       "  <th>const</th>    <td>-1022.5300</td> <td>  326.089</td> <td>   -3.136</td> <td> 0.002</td> <td>-1663.380</td> <td> -381.680</td>\n",
       "</tr>\n",
       "<tr>\n",
       "  <th>c_volume</th> <td>   40.1300</td> <td>    1.709</td> <td>   23.487</td> <td> 0.000</td> <td>   36.772</td> <td>   43.488</td>\n",
       "</tr>\n",
       "<tr>\n",
       "  <th>gr_numb</th>  <td> 2425.4372</td> <td>  668.432</td> <td>    3.629</td> <td> 0.000</td> <td> 1111.794</td> <td> 3739.080</td>\n",
       "</tr>\n",
       "</table>\n",
       "<table class=\"simpletable\">\n",
       "<tr>\n",
       "  <th>Omnibus:</th>       <td>150.353</td> <th>  Durbin-Watson:     </th> <td>   2.091</td> \n",
       "</tr>\n",
       "<tr>\n",
       "  <th>Prob(Omnibus):</th> <td> 0.000</td>  <th>  Jarque-Bera (JB):  </th> <td>14837.747</td>\n",
       "</tr>\n",
       "<tr>\n",
       "  <th>Skew:</th>          <td>-0.249</td>  <th>  Prob(JB):          </th> <td>    0.00</td> \n",
       "</tr>\n",
       "<tr>\n",
       "  <th>Kurtosis:</th>      <td>31.064</td>  <th>  Cond. No.          </th> <td>    542.</td> \n",
       "</tr>\n",
       "</table><br/><br/>Notes:<br/>[1] Standard Errors assume that the covariance matrix of the errors is correctly specified."
      ],
      "text/latex": [
       "\\begin{center}\n",
       "\\begin{tabular}{lclc}\n",
       "\\toprule\n",
       "\\textbf{Dep. Variable:}    &   price\\_yand    & \\textbf{  R-squared:         } &     0.639   \\\\\n",
       "\\textbf{Model:}            &       OLS        & \\textbf{  Adj. R-squared:    } &     0.637   \\\\\n",
       "\\textbf{Method:}           &  Least Squares   & \\textbf{  F-statistic:       } &     396.6   \\\\\n",
       "\\textbf{Date:}             & Wed, 03 Jul 2024 & \\textbf{  Prob (F-statistic):} & 6.04e-100   \\\\\n",
       "\\textbf{Time:}             &     19:13:50     & \\textbf{  Log-Likelihood:    } &   -4530.8   \\\\\n",
       "\\textbf{No. Observations:} &         452      & \\textbf{  AIC:               } &     9068.   \\\\\n",
       "\\textbf{Df Residuals:}     &         449      & \\textbf{  BIC:               } &     9080.   \\\\\n",
       "\\textbf{Df Model:}         &           2      & \\textbf{                     } &             \\\\\n",
       "\\textbf{Covariance Type:}  &    nonrobust     & \\textbf{                     } &             \\\\\n",
       "\\bottomrule\n",
       "\\end{tabular}\n",
       "\\begin{tabular}{lcccccc}\n",
       "                   & \\textbf{coef} & \\textbf{std err} & \\textbf{t} & \\textbf{P$> |$t$|$} & \\textbf{[0.025} & \\textbf{0.975]}  \\\\\n",
       "\\midrule\n",
       "\\textbf{const}     &   -1022.5300  &      326.089     &    -3.136  &         0.002        &    -1663.380    &     -381.680     \\\\\n",
       "\\textbf{c\\_volume} &      40.1300  &        1.709     &    23.487  &         0.000        &       36.772    &       43.488     \\\\\n",
       "\\textbf{gr\\_numb}  &    2425.4372  &      668.432     &     3.629  &         0.000        &     1111.794    &     3739.080     \\\\\n",
       "\\bottomrule\n",
       "\\end{tabular}\n",
       "\\begin{tabular}{lclc}\n",
       "\\textbf{Omnibus:}       & 150.353 & \\textbf{  Durbin-Watson:     } &     2.091  \\\\\n",
       "\\textbf{Prob(Omnibus):} &   0.000 & \\textbf{  Jarque-Bera (JB):  } & 14837.747  \\\\\n",
       "\\textbf{Skew:}          &  -0.249 & \\textbf{  Prob(JB):          } &      0.00  \\\\\n",
       "\\textbf{Kurtosis:}      &  31.064 & \\textbf{  Cond. No.          } &      542.  \\\\\n",
       "\\bottomrule\n",
       "\\end{tabular}\n",
       "%\\caption{OLS Regression Results}\n",
       "\\end{center}\n",
       "\n",
       "Notes: \\newline\n",
       " [1] Standard Errors assume that the covariance matrix of the errors is correctly specified."
      ],
      "text/plain": [
       "<class 'statsmodels.iolib.summary.Summary'>\n",
       "\"\"\"\n",
       "                            OLS Regression Results                            \n",
       "==============================================================================\n",
       "Dep. Variable:             price_yand   R-squared:                       0.639\n",
       "Model:                            OLS   Adj. R-squared:                  0.637\n",
       "Method:                 Least Squares   F-statistic:                     396.6\n",
       "Date:                Wed, 03 Jul 2024   Prob (F-statistic):          6.04e-100\n",
       "Time:                        19:13:50   Log-Likelihood:                -4530.8\n",
       "No. Observations:                 452   AIC:                             9068.\n",
       "Df Residuals:                     449   BIC:                             9080.\n",
       "Df Model:                           2                                         \n",
       "Covariance Type:            nonrobust                                         \n",
       "==============================================================================\n",
       "                 coef    std err          t      P>|t|      [0.025      0.975]\n",
       "------------------------------------------------------------------------------\n",
       "const      -1022.5300    326.089     -3.136      0.002   -1663.380    -381.680\n",
       "c_volume      40.1300      1.709     23.487      0.000      36.772      43.488\n",
       "gr_numb     2425.4372    668.432      3.629      0.000    1111.794    3739.080\n",
       "==============================================================================\n",
       "Omnibus:                      150.353   Durbin-Watson:                   2.091\n",
       "Prob(Omnibus):                  0.000   Jarque-Bera (JB):            14837.747\n",
       "Skew:                          -0.249   Prob(JB):                         0.00\n",
       "Kurtosis:                      31.064   Cond. No.                         542.\n",
       "==============================================================================\n",
       "\n",
       "Notes:\n",
       "[1] Standard Errors assume that the covariance matrix of the errors is correctly specified.\n",
       "\"\"\""
      ]
     },
     "execution_count": 315,
     "metadata": {},
     "output_type": "execute_result"
    }
   ],
   "source": [
    "X1 = df1[['c_volume', 'gr_numb']]\n",
    "Y1 = df1['price_yand']\n",
    "X1 = sm.add_constant(X1)\n",
    "reg_res1 = sm.OLS(Y1, X1).fit()\n",
    "reg_res1.summary()"
   ]
  },
  {
   "cell_type": "markdown",
   "id": "8c480cac",
   "metadata": {},
   "source": [
    "Исходя их этого, можно сделать вывод, что вместимость и система помола кофемолки оказывают статистически значимое влияение на цену."
   ]
  },
  {
   "cell_type": "markdown",
   "id": "7d36e020",
   "metadata": {},
   "source": [
    "#### Логистическая регрессия "
   ]
  },
  {
   "cell_type": "markdown",
   "id": "94b491e0",
   "metadata": {},
   "source": [
    "Далее, построим модель логистической регрессии для переменной gr_numb. С помощью нее мы узнаем какие факторы влияют на систему помола кофемолки. "
   ]
  },
  {
   "cell_type": "code",
   "execution_count": 377,
   "id": "2ca00af4",
   "metadata": {
    "scrolled": true
   },
   "outputs": [
    {
     "data": {
      "text/html": [
       "<div>\n",
       "<style scoped>\n",
       "    .dataframe tbody tr th:only-of-type {\n",
       "        vertical-align: middle;\n",
       "    }\n",
       "\n",
       "    .dataframe tbody tr th {\n",
       "        vertical-align: top;\n",
       "    }\n",
       "\n",
       "    .dataframe thead th {\n",
       "        text-align: right;\n",
       "    }\n",
       "</style>\n",
       "<table border=\"1\" class=\"dataframe\">\n",
       "  <thead>\n",
       "    <tr style=\"text-align: right;\">\n",
       "      <th></th>\n",
       "      <th>name</th>\n",
       "      <th>price_yand</th>\n",
       "      <th>price_full</th>\n",
       "      <th>color</th>\n",
       "      <th>brand</th>\n",
       "      <th>color_n</th>\n",
       "      <th>c_volume</th>\n",
       "      <th>c_gr_syst</th>\n",
       "      <th>c_power</th>\n",
       "      <th>c_rotation</th>\n",
       "      <th>gr_numb</th>\n",
       "      <th>pred_price</th>\n",
       "      <th>pred_price1</th>\n",
       "    </tr>\n",
       "  </thead>\n",
       "  <tbody>\n",
       "    <tr>\n",
       "      <th>248</th>\n",
       "      <td>Кофемолка Redmond CG800</td>\n",
       "      <td>12670.0</td>\n",
       "      <td>12798.0</td>\n",
       "      <td>черный</td>\n",
       "      <td>redmond</td>\n",
       "      <td>5</td>\n",
       "      <td>390.0</td>\n",
       "      <td>Система помола: жернова</td>\n",
       "      <td>180.0</td>\n",
       "      <td>Регулировка степени помола: есть</td>\n",
       "      <td>1</td>\n",
       "      <td>17063.407509</td>\n",
       "      <td>17053.607183</td>\n",
       "    </tr>\n",
       "    <tr>\n",
       "      <th>99</th>\n",
       "      <td>Кофемолка Kitfort KT-769</td>\n",
       "      <td>2078.0</td>\n",
       "      <td>2099.0</td>\n",
       "      <td>синий</td>\n",
       "      <td>kitfort</td>\n",
       "      <td>4</td>\n",
       "      <td>60.0</td>\n",
       "      <td>Система помола: ротационный нож</td>\n",
       "      <td>200.0</td>\n",
       "      <td>0</td>\n",
       "      <td>0</td>\n",
       "      <td>1390.549568</td>\n",
       "      <td>1385.270029</td>\n",
       "    </tr>\n",
       "    <tr>\n",
       "      <th>286</th>\n",
       "      <td>Кофемолка Добрыня DO-3701, черный..</td>\n",
       "      <td>910.0</td>\n",
       "      <td>919.0</td>\n",
       "      <td>черный</td>\n",
       "      <td>do</td>\n",
       "      <td>5</td>\n",
       "      <td>50.0</td>\n",
       "      <td>Система помола: жернова</td>\n",
       "      <td>200.0</td>\n",
       "      <td>Особенности: блокировка включения при снятой к...</td>\n",
       "      <td>1</td>\n",
       "      <td>3398.554105</td>\n",
       "      <td>3409.407180</td>\n",
       "    </tr>\n",
       "    <tr>\n",
       "      <th>70</th>\n",
       "      <td>Кофемолка электрическая мельница для специй Ke...</td>\n",
       "      <td>872.0</td>\n",
       "      <td>890.0</td>\n",
       "      <td>белый</td>\n",
       "      <td>kelli</td>\n",
       "      <td>2</td>\n",
       "      <td>70.0</td>\n",
       "      <td>Система помола: ротационный нож</td>\n",
       "      <td>300.0</td>\n",
       "      <td>Особенности: блокировка включения при снятой к...</td>\n",
       "      <td>0</td>\n",
       "      <td>1767.225814</td>\n",
       "      <td>1786.570029</td>\n",
       "    </tr>\n",
       "    <tr>\n",
       "      <th>24</th>\n",
       "      <td>Кофемолка Bosch TSM6A01, черный</td>\n",
       "      <td>2778.0</td>\n",
       "      <td>2834.0</td>\n",
       "      <td>черный</td>\n",
       "      <td>bosch</td>\n",
       "      <td>5</td>\n",
       "      <td>75.0</td>\n",
       "      <td>Система помола: ротационный нож</td>\n",
       "      <td>180.0</td>\n",
       "      <td>Особенности: блокировка включения при снятой к...</td>\n",
       "      <td>0</td>\n",
       "      <td>1998.206152</td>\n",
       "      <td>1987.220029</td>\n",
       "    </tr>\n",
       "  </tbody>\n",
       "</table>\n",
       "</div>"
      ],
      "text/plain": [
       "                                                  name  price_yand  \\\n",
       "248                            Кофемолка Redmond CG800     12670.0   \n",
       "99                            Кофемолка Kitfort KT-769      2078.0   \n",
       "286                Кофемолка Добрыня DO-3701, черный..       910.0   \n",
       "70   Кофемолка электрическая мельница для специй Ke...       872.0   \n",
       "24                     Кофемолка Bosch TSM6A01, черный      2778.0   \n",
       "\n",
       "     price_full   color    brand  color_n  c_volume  \\\n",
       "248     12798.0  черный  redmond        5     390.0   \n",
       "99       2099.0   синий  kitfort        4      60.0   \n",
       "286       919.0  черный       do        5      50.0   \n",
       "70        890.0   белый    kelli        2      70.0   \n",
       "24       2834.0  черный    bosch        5      75.0   \n",
       "\n",
       "                           c_gr_syst  c_power  \\\n",
       "248          Система помола: жернова    180.0   \n",
       "99   Система помола: ротационный нож    200.0   \n",
       "286          Система помола: жернова    200.0   \n",
       "70   Система помола: ротационный нож    300.0   \n",
       "24   Система помола: ротационный нож    180.0   \n",
       "\n",
       "                                            c_rotation  gr_numb    pred_price  \\\n",
       "248                   Регулировка степени помола: есть        1  17063.407509   \n",
       "99                                                   0        0   1390.549568   \n",
       "286  Особенности: блокировка включения при снятой к...        1   3398.554105   \n",
       "70   Особенности: блокировка включения при снятой к...        0   1767.225814   \n",
       "24   Особенности: блокировка включения при снятой к...        0   1998.206152   \n",
       "\n",
       "      pred_price1  \n",
       "248  17053.607183  \n",
       "99    1385.270029  \n",
       "286   3409.407180  \n",
       "70    1786.570029  \n",
       "24    1987.220029  "
      ]
     },
     "execution_count": 377,
     "metadata": {},
     "output_type": "execute_result"
    }
   ],
   "source": [
    "# Разделим датасет на тренировочную и тестовую выборки. \n",
    "train_data, test_data = train_test_split(df1, test_size = 0.5, random_state = 42)\n",
    "train_data.head()"
   ]
  },
  {
   "cell_type": "code",
   "execution_count": 206,
   "id": "5af1bfe8",
   "metadata": {},
   "outputs": [],
   "source": [
    "import statsmodels.formula.api as smf\n",
    "from statsmodels.formula.api import logit"
   ]
  },
  {
   "cell_type": "code",
   "execution_count": 222,
   "id": "b980e635",
   "metadata": {},
   "outputs": [],
   "source": [
    "#Зададим формулу для регрессии \n",
    "formula = 'gr_numb ~ price_yand + c_volume + c_power'"
   ]
  },
  {
   "cell_type": "code",
   "execution_count": 244,
   "id": "77c330fc",
   "metadata": {},
   "outputs": [
    {
     "name": "stdout",
     "output_type": "stream",
     "text": [
      "Optimization terminated successfully.\n",
      "         Current function value: 0.366752\n",
      "         Iterations 8\n"
     ]
    }
   ],
   "source": [
    "#Строим модель  \n",
    "model = logit(formula = formula, data = train_data).fit()"
   ]
  },
  {
   "cell_type": "markdown",
   "id": "6110e95b",
   "metadata": {},
   "source": [
    "Псевдо коэффициент детерминации составляет 0.37. \n",
    "\n",
    "Коэффициенты price_yand, c_volume, c_power оказались статистически значимыми на уровне значимости 5% (p-value < 0.05), поэтому мы можем их интерпретировать. \n",
    "Из-за того, что используется логистическая регрессия, можно интерпретировать только знаки коэффциентов:\n",
    "1) При увеличении цены товара на 1 рубль, вероятность наличия жерновой системы помола (1) увеличивается \n",
    "2) При увеличении вместимости товара на 1 грамм, вероятность наличия жерновой системы помола (1) увеличивается \n",
    "3) При увеличении мощности товара на 1 Ватт, вероятность наличия жерновой системы помола (1) уменьшается."
   ]
  },
  {
   "cell_type": "code",
   "execution_count": 320,
   "id": "1e0d1c5f",
   "metadata": {},
   "outputs": [
    {
     "data": {
      "text/html": [
       "<table class=\"simpletable\">\n",
       "<caption>Logit Regression Results</caption>\n",
       "<tr>\n",
       "  <th>Dep. Variable:</th>        <td>gr_numb</td>     <th>  No. Observations:  </th>  <td>   226</td>  \n",
       "</tr>\n",
       "<tr>\n",
       "  <th>Model:</th>                 <td>Logit</td>      <th>  Df Residuals:      </th>  <td>   222</td>  \n",
       "</tr>\n",
       "<tr>\n",
       "  <th>Method:</th>                 <td>MLE</td>       <th>  Df Model:          </th>  <td>     3</td>  \n",
       "</tr>\n",
       "<tr>\n",
       "  <th>Date:</th>            <td>Wed, 03 Jul 2024</td> <th>  Pseudo R-squ.:     </th>  <td>0.3711</td>  \n",
       "</tr>\n",
       "<tr>\n",
       "  <th>Time:</th>                <td>19:22:35</td>     <th>  Log-Likelihood:    </th> <td> -82.886</td> \n",
       "</tr>\n",
       "<tr>\n",
       "  <th>converged:</th>             <td>True</td>       <th>  LL-Null:           </th> <td> -131.80</td> \n",
       "</tr>\n",
       "<tr>\n",
       "  <th>Covariance Type:</th>     <td>nonrobust</td>    <th>  LLR p-value:       </th> <td>4.570e-21</td>\n",
       "</tr>\n",
       "</table>\n",
       "<table class=\"simpletable\">\n",
       "<tr>\n",
       "       <td></td>         <th>coef</th>     <th>std err</th>      <th>z</th>      <th>P>|z|</th>  <th>[0.025</th>    <th>0.975]</th>  \n",
       "</tr>\n",
       "<tr>\n",
       "  <th>Intercept</th>  <td>   -1.2471</td> <td>    0.733</td> <td>   -1.700</td> <td> 0.089</td> <td>   -2.685</td> <td>    0.190</td>\n",
       "</tr>\n",
       "<tr>\n",
       "  <th>price_yand</th> <td>    0.0002</td> <td>    0.000</td> <td>    2.454</td> <td> 0.014</td> <td>    5e-05</td> <td>    0.000</td>\n",
       "</tr>\n",
       "<tr>\n",
       "  <th>c_volume</th>   <td>    0.0074</td> <td>    0.003</td> <td>    2.324</td> <td> 0.020</td> <td>    0.001</td> <td>    0.014</td>\n",
       "</tr>\n",
       "<tr>\n",
       "  <th>c_power</th>    <td>   -0.0087</td> <td>    0.003</td> <td>   -2.487</td> <td> 0.013</td> <td>   -0.016</td> <td>   -0.002</td>\n",
       "</tr>\n",
       "</table>"
      ],
      "text/latex": [
       "\\begin{center}\n",
       "\\begin{tabular}{lclc}\n",
       "\\toprule\n",
       "\\textbf{Dep. Variable:}   &     gr\\_numb     & \\textbf{  No. Observations:  } &      226    \\\\\n",
       "\\textbf{Model:}           &      Logit       & \\textbf{  Df Residuals:      } &      222    \\\\\n",
       "\\textbf{Method:}          &       MLE        & \\textbf{  Df Model:          } &        3    \\\\\n",
       "\\textbf{Date:}            & Wed, 03 Jul 2024 & \\textbf{  Pseudo R-squ.:     } &   0.3711    \\\\\n",
       "\\textbf{Time:}            &     19:22:35     & \\textbf{  Log-Likelihood:    } &   -82.886   \\\\\n",
       "\\textbf{converged:}       &       True       & \\textbf{  LL-Null:           } &   -131.80   \\\\\n",
       "\\textbf{Covariance Type:} &    nonrobust     & \\textbf{  LLR p-value:       } & 4.570e-21   \\\\\n",
       "\\bottomrule\n",
       "\\end{tabular}\n",
       "\\begin{tabular}{lcccccc}\n",
       "                     & \\textbf{coef} & \\textbf{std err} & \\textbf{z} & \\textbf{P$> |$z$|$} & \\textbf{[0.025} & \\textbf{0.975]}  \\\\\n",
       "\\midrule\n",
       "\\textbf{Intercept}   &      -1.2471  &        0.733     &    -1.700  &         0.089        &       -2.685    &        0.190     \\\\\n",
       "\\textbf{price\\_yand} &       0.0002  &        0.000     &     2.454  &         0.014        &        5e-05    &        0.000     \\\\\n",
       "\\textbf{c\\_volume}   &       0.0074  &        0.003     &     2.324  &         0.020        &        0.001    &        0.014     \\\\\n",
       "\\textbf{c\\_power}    &      -0.0087  &        0.003     &    -2.487  &         0.013        &       -0.016    &       -0.002     \\\\\n",
       "\\bottomrule\n",
       "\\end{tabular}\n",
       "%\\caption{Logit Regression Results}\n",
       "\\end{center}"
      ],
      "text/plain": [
       "<class 'statsmodels.iolib.summary.Summary'>\n",
       "\"\"\"\n",
       "                           Logit Regression Results                           \n",
       "==============================================================================\n",
       "Dep. Variable:                gr_numb   No. Observations:                  226\n",
       "Model:                          Logit   Df Residuals:                      222\n",
       "Method:                           MLE   Df Model:                            3\n",
       "Date:                Wed, 03 Jul 2024   Pseudo R-squ.:                  0.3711\n",
       "Time:                        19:22:35   Log-Likelihood:                -82.886\n",
       "converged:                       True   LL-Null:                       -131.80\n",
       "Covariance Type:            nonrobust   LLR p-value:                 4.570e-21\n",
       "==============================================================================\n",
       "                 coef    std err          z      P>|z|      [0.025      0.975]\n",
       "------------------------------------------------------------------------------\n",
       "Intercept     -1.2471      0.733     -1.700      0.089      -2.685       0.190\n",
       "price_yand     0.0002      0.000      2.454      0.014       5e-05       0.000\n",
       "c_volume       0.0074      0.003      2.324      0.020       0.001       0.014\n",
       "c_power       -0.0087      0.003     -2.487      0.013      -0.016      -0.002\n",
       "==============================================================================\n",
       "\"\"\""
      ]
     },
     "execution_count": 320,
     "metadata": {},
     "output_type": "execute_result"
    }
   ],
   "source": [
    "model.summary()"
   ]
  },
  {
   "cell_type": "code",
   "execution_count": 210,
   "id": "78dadfe0",
   "metadata": {},
   "outputs": [],
   "source": [
    "from sklearn.metrics import classification_report, accuracy_score"
   ]
  },
  {
   "cell_type": "markdown",
   "id": "39a97507",
   "metadata": {},
   "source": [
    "Далее, сделаем предсказания на тестовой подвыборке и вычислим accuracy модели"
   ]
  },
  {
   "cell_type": "code",
   "execution_count": 332,
   "id": "8c0f4c80",
   "metadata": {},
   "outputs": [],
   "source": [
    "prediction = model.predict(exog = test_data)\n",
    "y_actual = test_data['gr_numb']"
   ]
  },
  {
   "cell_type": "code",
   "execution_count": 349,
   "id": "ee008818",
   "metadata": {},
   "outputs": [
    {
     "name": "stdout",
     "output_type": "stream",
     "text": [
      "0.8805309734513275\n"
     ]
    }
   ],
   "source": [
    "cutoff = 0.5\n",
    "y_pred = np.where(prediction > cutoff, 1, 0)\n",
    "accuracy = accuracy_score(y_actual, y_pred)\n",
    "print(accuracy)"
   ]
  },
  {
   "cell_type": "code",
   "execution_count": 372,
   "id": "54f217ef",
   "metadata": {},
   "outputs": [
    {
     "name": "stdout",
     "output_type": "stream",
     "text": [
      "0.915929203539823\n"
     ]
    }
   ],
   "source": [
    "cutoff1 = 0.32\n",
    "y_pred1 = np.where(prediction > cutoff1, 1, 0)\n",
    "accuracy1 = accuracy_score(y_actual, y_pred1)\n",
    "print(accuracy1)"
   ]
  },
  {
   "cell_type": "code",
   "execution_count": 361,
   "id": "cb8357da",
   "metadata": {
    "scrolled": true
   },
   "outputs": [
    {
     "data": {
      "text/plain": [
       "gr_numb\n",
       "0    342\n",
       "1    110\n",
       "Name: count, dtype: int64"
      ]
     },
     "execution_count": 361,
     "metadata": {},
     "output_type": "execute_result"
    }
   ],
   "source": [
    "df1.gr_numb.value_counts()"
   ]
  },
  {
   "cell_type": "code",
   "execution_count": 371,
   "id": "89eb7b54",
   "metadata": {},
   "outputs": [
    {
     "data": {
      "text/plain": [
       "0.3216374269005848"
      ]
     },
     "execution_count": 371,
     "metadata": {},
     "output_type": "execute_result"
    }
   ],
   "source": [
    "len(df1[(df1['gr_numb'] == 1)])/len(df1[(df1['gr_numb'] == 0)])"
   ]
  },
  {
   "cell_type": "markdown",
   "id": "6aabbe44",
   "metadata": {},
   "source": [
    "Лучший performance модель показывается, когда cut-off value равен 32%. Это происходит из-за того, что в выборке существует проблема sample imbalance: класс 1 составляет лишь 32% от класса 0."
   ]
  },
  {
   "cell_type": "markdown",
   "id": "287c72e3",
   "metadata": {},
   "source": [
    "## Этап 4. Рекомендации "
   ]
  },
  {
   "cell_type": "markdown",
   "id": "af1fb7a5",
   "metadata": {},
   "source": [
    "1) Покупатели, которые хотят сэкономить на покупке кофемолки должны выбирать кофемолку с ротационной системой помола: цены на такие кофемолки в среднем ниже, чем с жерновой системой \n",
    "2) Покупатели, которые хотят сэкономить на покупке кофемолки должны выбирать кофемолку небольшой вместимостью.\n",
    "3) Покупатели могут не учитывать мощность кофемолки при покупке, так как она не оказывает влияния на цену.\n",
    "4) Большие цена и вместимость увеличивают вероятность кофемолки иметь жерновую систему помола, поэтому при 'слепом' выборе можно использоваться эти критерии. "
   ]
  }
 ],
 "metadata": {
  "kernelspec": {
   "display_name": "Python 3 (ipykernel)",
   "language": "python",
   "name": "python3"
  },
  "language_info": {
   "codemirror_mode": {
    "name": "ipython",
    "version": 3
   },
   "file_extension": ".py",
   "mimetype": "text/x-python",
   "name": "python",
   "nbconvert_exporter": "python",
   "pygments_lexer": "ipython3",
   "version": "3.11.5"
  }
 },
 "nbformat": 4,
 "nbformat_minor": 5
}
